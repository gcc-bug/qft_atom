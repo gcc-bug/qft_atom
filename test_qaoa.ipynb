{
 "cells": [
  {
   "cell_type": "code",
   "execution_count": 9,
   "metadata": {},
   "outputs": [],
   "source": [
    "from qft import QFT\n",
    "from Enola.route import *"
   ]
  },
  {
   "cell_type": "code",
   "execution_count": 10,
   "metadata": {},
   "outputs": [],
   "source": [
    "num_q = 5\n",
    "cir = QFT(num_q)\n",
    "maps = cir.LNN_maps(-1)\n",
    "# cir.remove_gate(2)"
   ]
  },
  {
   "cell_type": "code",
   "execution_count": 11,
   "metadata": {},
   "outputs": [
    {
     "data": {
      "text/plain": [
       "[[(0, 0), (1, 0), (2, 0), (3, 0), (4, 0)],\n",
       " [(1, 0), (0, 0), (2, 0), (3, 0), (4, 0)],\n",
       " [(1, 0), (0, 0), (2, 0), (3, 0), (4, 0)],\n",
       " [(2, 0), (0, 0), (1, 0), (3, 0), (4, 0)],\n",
       " [(2, 0), (0, 0), (1, 0), (3, 0), (4, 0)],\n",
       " [(3, 0), (1, 0), (0, 0), (2, 0), (4, 0)],\n",
       " [(3, 0), (1, 0), (0, 0), (2, 0), (4, 0)],\n",
       " [(4, 0), (2, 0), (0, 0), (1, 0), (3, 0)],\n",
       " [(4, 0), (2, 0), (0, 0), (1, 0), (3, 0)],\n",
       " [(4, 0), (3, 0), (1, 0), (0, 0), (2, 0)],\n",
       " [(4, 0), (3, 0), (1, 0), (0, 0), (2, 0)],\n",
       " [(4, 0), (3, 0), (2, 0), (0, 0), (1, 0)],\n",
       " [(4, 0), (3, 0), (2, 0), (0, 0), (1, 0)],\n",
       " [(4, 0), (3, 0), (2, 0), (1, 0), (0, 0)]]"
      ]
     },
     "execution_count": 11,
     "metadata": {},
     "output_type": "execute_result"
    }
   ],
   "source": [
    "cir.maps"
   ]
  },
  {
   "cell_type": "code",
   "execution_count": 7,
   "metadata": {},
   "outputs": [
    {
     "data": {
      "text/plain": [
       "[[[0, 1]],\n",
       " [[0, 1]],\n",
       " [[0, 2]],\n",
       " [[0, 2]],\n",
       " [[1, 2], [0, 3]],\n",
       " [[1, 2], [0, 3]],\n",
       " [[1, 3]],\n",
       " [[1, 3]],\n",
       " [[0, 4]],\n",
       " [[1, 4]],\n",
       " [[1, 4]],\n",
       " [[2, 3]],\n",
       " [[2, 4]],\n",
       " [[2, 4]],\n",
       " [[3, 4]],\n",
       " [[3, 4]]]"
      ]
     },
     "execution_count": 7,
     "metadata": {},
     "output_type": "execute_result"
    }
   ],
   "source": [
    "cir.gate_list"
   ]
  },
  {
   "cell_type": "code",
   "execution_count": 8,
   "metadata": {},
   "outputs": [
    {
     "data": {
      "text/plain": [
       "[[(0, 0), (1, 0), (2, 0), (3, 0), (4, 0)],\n",
       " [(1, 0), (0, 0), (2, 0), (3, 0), (4, 0)],\n",
       " [(1, 0), (0, 0), (2, 0), (3, 0), (4, 0)],\n",
       " [(2, 0), (0, 0), (1, 0), (3, 0), (4, 0)],\n",
       " [(2, 0), (0, 0), (1, 0), (3, 0), (4, 0)],\n",
       " [(3, 0), (1, 0), (0, 0), (2, 0), (4, 0)],\n",
       " [(3, 0), (1, 0), (0, 0), (2, 0), (4, 0)],\n",
       " [(3, 0), (2, 0), (0, 0), (1, 0), (4, 0)],\n",
       " [(4, 0), (2, 0), (0, 0), (1, 0), (3, 0)],\n",
       " [(4, 0), (2, 0), (0, 0), (1, 0), (3, 0)],\n",
       " [(4, 0), (3, 0), (0, 0), (1, 0), (2, 0)],\n",
       " [(4, 0), (3, 0), (1, 0), (0, 0), (2, 0)],\n",
       " [(4, 0), (3, 0), (1, 0), (0, 0), (2, 0)],\n",
       " [(4, 0), (3, 0), (2, 0), (0, 0), (1, 0)],\n",
       " [(4, 0), (3, 0), (2, 0), (0, 0), (1, 0)],\n",
       " [(4, 0), (3, 0), (2, 0), (1, 0), (0, 0)]]"
      ]
     },
     "execution_count": 8,
     "metadata": {},
     "output_type": "execute_result"
    }
   ],
   "source": [
    "cir.maps"
   ]
  },
  {
   "cell_type": "code",
   "execution_count": 5,
   "metadata": {},
   "outputs": [],
   "source": [
    "route = QuantumRouter(num_q,cir.maps,cir.gate_list,[6,3],cir.qaoa,\"others\")\n",
    "route.run()"
   ]
  },
  {
   "cell_type": "code",
   "execution_count": 6,
   "metadata": {},
   "outputs": [
    {
     "name": "stdout",
     "output_type": "stream",
     "text": [
      "test.json\n"
     ]
    }
   ],
   "source": [
    "route.save_program(\"test.json\")"
   ]
  }
 ],
 "metadata": {
  "kernelspec": {
   "display_name": "base",
   "language": "python",
   "name": "python3"
  },
  "language_info": {
   "codemirror_mode": {
    "name": "ipython",
    "version": 3
   },
   "file_extension": ".py",
   "mimetype": "text/x-python",
   "name": "python",
   "nbconvert_exporter": "python",
   "pygments_lexer": "ipython3",
   "version": "3.12.2"
  }
 },
 "nbformat": 4,
 "nbformat_minor": 2
}
