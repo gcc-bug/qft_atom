{
 "cells": [
  {
   "cell_type": "code",
   "execution_count": 1,
   "metadata": {},
   "outputs": [],
   "source": [
    "from qiskit import QuantumCircuit, qasm2\n",
    "import networkx as nx\n",
    "from statistics import mean\n",
    "\n",
    "def cal_d(filename):\n",
    "    # Load the quantum circuit\n",
    "    qc = qasm2.load(filename)\n",
    "    G = nx.Graph()\n",
    "    \n",
    "    # Add all qubits as nodes\n",
    "    for i in range(qc.num_qubits):\n",
    "        G.add_node(i)\n",
    "    \n",
    "    # Process each instruction in the circuit\n",
    "    # qc.data is a list of tuples: (Instruction, [Qubit], [Bit])\n",
    "    for instruction, qargs, cargs in qc.data:\n",
    "        # Check if the gate operates on two qubits (e.g., CNOT, CZ, SWAP, etc.)\n",
    "        if len(qargs) == 2:\n",
    "            # Add an undirected edge between those two qubits\n",
    "            G.add_edge(qargs[0]._index, qargs[1]._index)\n",
    "    \n",
    "    # Calculate degrees\n",
    "    degrees = dict(G.degree())\n",
    "    # Calculate average degree\n",
    "    avg_degree = mean(degrees.values()) if len(degrees) > 0 else 0\n",
    "    \n",
    "    return degrees, avg_degree\n"
   ]
  },
  {
   "cell_type": "code",
   "execution_count": 2,
   "metadata": {},
   "outputs": [
    {
     "name": "stderr",
     "output_type": "stream",
     "text": [
      "/tmp/ipykernel_218557/2729914606.py:16: DeprecationWarning: Treating CircuitInstruction as an iterable is deprecated legacy behavior since Qiskit 1.2, and will be removed in Qiskit 2.0. Instead, use the `operation`, `qubits` and `clbits` named attributes.\n",
      "  for instruction, qargs, cargs in qc.data:\n"
     ]
    }
   ],
   "source": [
    "import pandas as pd\n",
    "import os\n",
    "\n",
    "# Make sure you have defined or imported cal_d before using it\n",
    "# from your_module import cal_d\n",
    "\n",
    "qasm_folder = \"random_p_qaoa/qasm\"\n",
    "data_list = []\n",
    "\n",
    "for file in os.listdir(qasm_folder):\n",
    "    # Construct the full file path\n",
    "    file_path = os.path.join(qasm_folder, file)\n",
    "    \n",
    "    # Run cal_d() on the current file\n",
    "    degrees, avg_degree = cal_d(file_path)\n",
    "    \n",
    "    # Build a dictionary of results\n",
    "    data = {\n",
    "        \"name\": file,\n",
    "        \"degrees\": degrees,      # Dictionary of qubit: degree\n",
    "        \"avg_degree\": avg_degree # Average degree\n",
    "    }\n",
    "    \n",
    "    # Append this dictionary to our list\n",
    "    data_list.append(data)\n",
    "\n",
    "# Create a DataFrame from the list of result dictionaries\n",
    "data_df = pd.DataFrame(data_list)\n",
    "\n",
    "# Export to an Excel file\n",
    "data_df.to_excel(\"d.xlsx\", index=False)\n"
   ]
  }
 ],
 "metadata": {
  "kernelspec": {
   "display_name": "base",
   "language": "python",
   "name": "python3"
  },
  "language_info": {
   "codemirror_mode": {
    "name": "ipython",
    "version": 3
   },
   "file_extension": ".py",
   "mimetype": "text/x-python",
   "name": "python",
   "nbconvert_exporter": "python",
   "pygments_lexer": "ipython3",
   "version": "3.12.2"
  }
 },
 "nbformat": 4,
 "nbformat_minor": 2
}
