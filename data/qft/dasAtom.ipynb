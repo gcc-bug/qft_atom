{
 "cells": [
  {
   "cell_type": "code",
   "execution_count": 3,
   "metadata": {},
   "outputs": [],
   "source": [
    "import pandas as pd\n",
    "import matplotlib.pyplot as plt\n",
    "# File path of the xlsx file\n",
    "file_path = \"qft_summary.xlsx\""
   ]
  },
  {
   "cell_type": "code",
   "execution_count": 4,
   "metadata": {},
   "outputs": [
    {
     "name": "stdout",
     "output_type": "stream",
     "text": [
      "Empty DataFrame\n",
      "Columns: [QASM File, Num Qubits, Num CZ Gates, Circuit Depth, cir_fidelity_atom_transfer, cir_fidelity_coherence, cir_fidelity_coherence_big, num_gate_stage, num_transfer, num_movement_stage, num_big_move, total_move_dis, bigmov_dis, average_movement, 2q_fid, tran_fid, dec_fid, all_fid]\n",
      "Index: []\n"
     ]
    }
   ],
   "source": [
    "df = pd.read_excel(file_path)\n",
    "\n",
    "print(df.head(n=0))"
   ]
  },
  {
   "cell_type": "code",
   "execution_count": 5,
   "metadata": {},
   "outputs": [
    {
     "data": {
      "text/plain": [
       "array(['qft_5.qasm', 'qft_6.qasm', 'qft_7.qasm', 'qft_8.qasm',\n",
       "       'qft_9.qasm', 'qft_10.qasm', 'qft_11.qasm', 'qft_12.qasm',\n",
       "       'qft_13.qasm', 'qft_14.qasm', 'qft_15.qasm', 'qft_16.qasm',\n",
       "       'qft_17.qasm', 'qft_18.qasm', 'qft_19.qasm', 'qft_20.qasm',\n",
       "       'qft_21.qasm', 'qft_22.qasm', 'qft_23.qasm', 'qft_24.qasm',\n",
       "       'qft_25.qasm', 'qft_26.qasm', 'qft_27.qasm', 'qft_28.qasm',\n",
       "       'qft_29.qasm', 'qft_30.qasm', 'qft_31.qasm', 'qft_32.qasm',\n",
       "       'qft_33.qasm', 'qft_34.qasm', 'qft_35.qasm', 'qft_36.qasm',\n",
       "       'qft_37.qasm', 'qft_38.qasm', 'qft_39.qasm', 'qft_40.qasm',\n",
       "       'qft_41.qasm', 'qft_42.qasm', 'qft_43.qasm', 'qft_44.qasm',\n",
       "       'qft_45.qasm', 'qft_46.qasm', 'qft_47.qasm', 'qft_48.qasm', 'T_cz'],\n",
       "      dtype=object)"
      ]
     },
     "execution_count": 5,
     "metadata": {},
     "output_type": "execute_result"
    }
   ],
   "source": [
    "df[\"QASM File\"].values"
   ]
  },
  {
   "cell_type": "code",
   "execution_count": 7,
   "metadata": {},
   "outputs": [],
   "source": [
    "\n",
    "# Sample DataFrame (replace with your actual DataFrame)\n",
    "df = pd.read_excel(file_path)\n",
    "\n",
    "# Extracting x values\n",
    "x_values = df[\"QASM File\"].values\n",
    "\n",
    "#labels\n",
    "groups = ['all_fid']\n",
    "\n",
    "# Iterate through each benchmark and generate TikZ code\n",
    "tikz_code = f\"\"\n",
    "for item in groups:\n",
    "    y_values = df[item].values\n",
    "    tikz_code += f\"\\\\addplot [DasAtomPlot]\\ncoordinates {{%\\n\"\n",
    "    for x_cor, y_cor in zip(x_values, y_values):\n",
    "        tikz_code += f\"({x_cor.replace(\"qft_\",\"\").replace(\".qasm\",\"\")}, {y_cor}) \"\n",
    "    tikz_code += \"};\\n\\\\addlegendentry{DasAtom}\\n\\n\"\n",
    "    \n",
    "    # Print or save the TikZ code\n",
    "    # print(tikz_code)\n",
    "    # Optionally save the TikZ code to a file\n",
    "    with open(f'tikz.tex', 'w') as f:\n",
    "        f.write(tikz_code)\n"
   ]
  },
  {
   "cell_type": "code",
   "execution_count": 13,
   "metadata": {},
   "outputs": [],
   "source": [
    "\n",
    "# Sample DataFrame (replace with your actual DataFrame)\n",
    "df = pd.read_excel(file_path)\n",
    "\n",
    "# Extracting x values\n",
    "x_values = df[\"QASM File\"].values\n",
    "\n",
    "#labels\n",
    "groups = ['2qpath']\n",
    "\n",
    "# Iterate through each benchmark and generate TikZ code\n",
    "tikz_code = f\"\"\n",
    "for item in groups:\n",
    "    y_values = df[item].values\n",
    "    tikz_code =[]\n",
    "    for x_cor, y_cor in zip(x_values, y_values):\n",
    "        tikz_code .append(f\"--(axis cs:{x_cor.replace(\"qft_\",\"\").replace(\".qasm\",\"\")}, {y_cor})\\n \")\n",
    "    \n",
    "    # Print or save the TikZ code\n",
    "    # print(tikz_code)\n",
    "    # Optionally save the TikZ code to a file\n",
    "    tikz_code.reverse()\n",
    "    with open(f'tikz.tex', 'w') as f:\n",
    "        f.write(\" \".join(tikz_code))\n"
   ]
  },
  {
   "cell_type": "code",
   "execution_count": 15,
   "metadata": {},
   "outputs": [],
   "source": [
    "\n",
    "# Sample DataFrame (replace with your actual DataFrame)\n",
    "df = pd.read_excel(file_path)\n",
    "\n",
    "# Extracting x values\n",
    "x_values = df[\"QASM File\"].values\n",
    "\n",
    "#labels\n",
    "groups = ['decpath']\n",
    "\n",
    "# Iterate through each benchmark and generate TikZ code\n",
    "tikz_code = f\"\"\n",
    "for item in groups:\n",
    "    y_values = df[item].values\n",
    "    tikz_code =[]\n",
    "    for x_cor, y_cor in zip(x_values, y_values):\n",
    "        tikz_code .append(f\"--(axis cs:{x_cor.replace(\"qft_\",\"\").replace(\".qasm\",\"\")}, {y_cor})\\n \")\n",
    "    \n",
    "    # Print or save the TikZ code\n",
    "    # print(tikz_code)\n",
    "    # Optionally save the TikZ code to a file\n",
    "    tikz_code.reverse()\n",
    "    with open(f'tikz.tex', 'w') as f:\n",
    "        f.write(\" \".join(tikz_code))\n"
   ]
  },
  {
   "cell_type": "code",
   "execution_count": 17,
   "metadata": {},
   "outputs": [],
   "source": [
    "\n",
    "# Sample DataFrame (replace with your actual DataFrame)\n",
    "df = pd.read_excel(file_path)\n",
    "\n",
    "# Extracting x values\n",
    "x_values = df[\"QASM File\"].values\n",
    "\n",
    "#labels\n",
    "groups = ['tranpath']\n",
    "\n",
    "# Iterate through each benchmark and generate TikZ code\n",
    "tikz_code = f\"\"\n",
    "for item in groups:\n",
    "    y_values = df[item].values\n",
    "    tikz_code =[]\n",
    "    for x_cor, y_cor in zip(x_values, y_values):\n",
    "        tikz_code .append(f\"--(axis cs:{x_cor.replace(\"qft_\",\"\").replace(\".qasm\",\"\")}, {y_cor})\\n \")\n",
    "    \n",
    "    # Print or save the TikZ code\n",
    "    # print(tikz_code)\n",
    "    # Optionally save the TikZ code to a file\n",
    "    # tikz_code.reverse()\n",
    "    with open(f'tikz.tex', 'w') as f:\n",
    "        f.write(\" \".join(tikz_code))\n"
   ]
  },
  {
   "cell_type": "code",
   "execution_count": null,
   "metadata": {},
   "outputs": [],
   "source": []
  }
 ],
 "metadata": {
  "kernelspec": {
   "display_name": "base",
   "language": "python",
   "name": "python3"
  },
  "language_info": {
   "codemirror_mode": {
    "name": "ipython",
    "version": 3
   },
   "file_extension": ".py",
   "mimetype": "text/x-python",
   "name": "python",
   "nbconvert_exporter": "python",
   "pygments_lexer": "ipython3",
   "version": "3.12.3"
  }
 },
 "nbformat": 4,
 "nbformat_minor": 2
}
