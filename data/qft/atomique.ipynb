{
 "cells": [
  {
   "cell_type": "code",
   "execution_count": 1,
   "metadata": {},
   "outputs": [],
   "source": [
    "import pandas as pd\n",
    "import matplotlib.pyplot as plt\n",
    "# File path of the xlsx file\n",
    "file_path = \"Atomique_qft_.xlsx\""
   ]
  },
  {
   "cell_type": "code",
   "execution_count": 2,
   "metadata": {},
   "outputs": [
    {
     "name": "stdout",
     "output_type": "stream",
     "text": [
      "Empty DataFrame\n",
      "Columns: [bench name, qubit number, 2q number, depth, move num for gate, move num for close, transfer num, 2q time (depth*2q_time), move time, close move time, move distance, total time, 2q fid, trans fid, idle fid, total fid, compilation time, Unnamed: 17, path2q, pathCo, pathAll]\n",
      "Index: []\n",
      "\n",
      "[0 rows x 21 columns]\n"
     ]
    }
   ],
   "source": [
    "df = pd.read_excel(file_path)\n",
    "\n",
    "print(df.head(n=0))"
   ]
  },
  {
   "cell_type": "code",
   "execution_count": 3,
   "metadata": {},
   "outputs": [
    {
     "data": {
      "text/plain": [
       "array(['qft_5.qasm', 'qft_6.qasm', 'qft_7.qasm', 'qft_8.qasm',\n",
       "       'qft_9.qasm', 'qft_10.qasm', 'qft_11.qasm', 'qft_12.qasm',\n",
       "       'qft_13.qasm', 'qft_14.qasm', 'qft_15.qasm', 'qft_16.qasm',\n",
       "       'qft_17.qasm', 'qft_18.qasm', 'qft_19.qasm', 'qft_20.qasm',\n",
       "       'qft_21.qasm', 'qft_22.qasm', 'qft_23.qasm', 'qft_24.qasm',\n",
       "       'qft_25.qasm', 'qft_26.qasm', 'qft_27.qasm', 'qft_28.qasm',\n",
       "       'qft_29.qasm', 'qft_30.qasm', 'qft_31.qasm', 'qft_32.qasm',\n",
       "       'qft_33.qasm', 'qft_34.qasm', 'qft_35.qasm', 'qft_36.qasm',\n",
       "       'qft_37.qasm', 'qft_38.qasm', 'qft_39.qasm', 'qft_40.qasm',\n",
       "       'qft_41.qasm', 'qft_42.qasm', 'qft_43.qasm', 'qft_44.qasm',\n",
       "       'qft_45.qasm', 'qft_46.qasm', 'qft_47.qasm', 'qft_48.qasm',\n",
       "       'qft_49.qasm', 'qft_50.qasm'], dtype=object)"
      ]
     },
     "execution_count": 3,
     "metadata": {},
     "output_type": "execute_result"
    }
   ],
   "source": [
    "df[\"bench name\"].values"
   ]
  },
  {
   "cell_type": "code",
   "execution_count": 4,
   "metadata": {},
   "outputs": [],
   "source": [
    "\n",
    "# Sample DataFrame (replace with your actual DataFrame)\n",
    "df = pd.read_excel(file_path)\n",
    "\n",
    "# Extracting x values\n",
    "x_values = df[\"bench name\"].values\n",
    "\n",
    "#labels\n",
    "groups = ['total fid']\n",
    "\n",
    "# Iterate through each benchmark and generate TikZ code\n",
    "tikz_code = f\"\"\n",
    "for item in groups:\n",
    "    y_values = df[item].values\n",
    "    tikz_code += f\"\\\\addplot [AtomiquePlot]\\ncoordinates {{%\\n\"\n",
    "    for x_cor, y_cor in zip(x_values, y_values):\n",
    "        tikz_code += f\"({x_cor.replace(\"qft_\",\"\").replace(\".qasm\",\"\")}, {y_cor}) \"\n",
    "    tikz_code += \"};\\n\\\\addlegendentry{Atomique}\\n\\n\"\n",
    "    \n",
    "    # Print or save the TikZ code\n",
    "    # print(tikz_code)\n",
    "    # Optionally save the TikZ code to a file\n",
    "    with open(f'tikz.tex', 'w') as f:\n",
    "        f.write(tikz_code)\n"
   ]
  },
  {
   "cell_type": "code",
   "execution_count": 13,
   "metadata": {},
   "outputs": [],
   "source": [
    "\n",
    "# Sample DataFrame (replace with your actual DataFrame)\n",
    "df = pd.read_excel(file_path)\n",
    "\n",
    "# Extracting x values\n",
    "x_values = df[\"bench name\"].values\n",
    "\n",
    "#labels\n",
    "groups = ['path2q']\n",
    "\n",
    "# Iterate through each benchmark and generate TikZ code\n",
    "tikz_code = f\"\"\n",
    "for item in groups:\n",
    "    y_values = df[item].values\n",
    "    tikz_code =[]\n",
    "    for x_cor, y_cor in zip(x_values, y_values):\n",
    "        tikz_code .append(f\"--(axis cs:({x_cor.replace(\"qft_\",\"\").replace(\".qasm\",\"\")}, {y_cor})\\n \")\n",
    "    \n",
    "    # Print or save the TikZ code\n",
    "    # print(tikz_code)\n",
    "    # Optionally save the TikZ code to a file\n",
    "    tikz_code.reverse()\n",
    "    with open(f'tikz.tex', 'w') as f:\n",
    "        f.write(\" \".join(tikz_code))\n"
   ]
  },
  {
   "cell_type": "code",
   "execution_count": 14,
   "metadata": {},
   "outputs": [],
   "source": [
    "\n",
    "# Sample DataFrame (replace with your actual DataFrame)\n",
    "df = pd.read_excel(file_path)\n",
    "\n",
    "# Extracting x values\n",
    "x_values = df[\"bench name\"].values\n",
    "\n",
    "#labels\n",
    "groups = ['pathAll']\n",
    "\n",
    "# Iterate through each benchmark and generate TikZ code\n",
    "tikz_code = f\"\"\n",
    "for item in groups:\n",
    "    y_values = df[item].values\n",
    "    tikz_code += f\"\"\n",
    "    for x_cor, y_cor in zip(x_values, y_values):\n",
    "        tikz_code += f\"--(axis cs:({x_cor.replace(\"qft_\",\"\").replace(\".qasm\",\"\")}, {y_cor})\\n \"\n",
    "    \n",
    "    # Print or save the TikZ code\n",
    "    # print(tikz_code)\n",
    "    # Optionally save the TikZ code to a file\n",
    "    with open(f'tikz.tex', 'w') as f:\n",
    "        f.write(tikz_code)\n"
   ]
  }
 ],
 "metadata": {
  "kernelspec": {
   "display_name": "base",
   "language": "python",
   "name": "python3"
  },
  "language_info": {
   "codemirror_mode": {
    "name": "ipython",
    "version": 3
   },
   "file_extension": ".py",
   "mimetype": "text/x-python",
   "name": "python",
   "nbconvert_exporter": "python",
   "pygments_lexer": "ipython3",
   "version": "3.12.3"
  }
 },
 "nbformat": 4,
 "nbformat_minor": 2
}
