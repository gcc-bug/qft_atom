{
 "cells": [
  {
   "cell_type": "code",
   "execution_count": 1,
   "metadata": {
    "notebookRunGroups": {
     "groupValue": "1"
    }
   },
   "outputs": [],
   "source": [
    "import os\n",
    "import json\n",
    "import pandas as pd\n",
    "import subprocess\n",
    "\n",
    "# Function to clean and format file names and extract numeric part\n",
    "def clean_file_name(file_name):\n",
    "    base_name = os.path.splitext(file_name)[0]  # Remove extension\n",
    "    cleaned_name = base_name.replace('_', ' ').replace('code full', '').strip()\n",
    "    return cleaned_name\n",
    "\n",
    "def extract_numeric_part(file_name):\n",
    "    parts = file_name.split()\n",
    "    for part in parts:\n",
    "        if part.isdigit():\n",
    "            return int(part)\n",
    "    return 0"
   ]
  },
  {
   "cell_type": "code",
   "execution_count": 2,
   "metadata": {},
   "outputs": [
    {
     "data": {
      "text/plain": [
       "'..//'"
      ]
     },
     "execution_count": 2,
     "metadata": {},
     "output_type": "execute_result"
    }
   ],
   "source": [
    "fidelity_py = \"../simulator.py\"\n",
    "data_folder = \"../\"\n",
    "os.makedirs(data_folder,exist_ok=True)\n",
    "data_folder = f\"{data_folder}/\"\n",
    "data_folder"
   ]
  },
  {
   "cell_type": "code",
   "execution_count": null,
   "metadata": {},
   "outputs": [],
   "source": [
    "# Directory containing the JSON files\n",
    "folder_map = True\n",
    "code_folder_path = f'../random_p_qaoa_/code/zigzag'\n",
    "fid_folder_path = f'../random_p_qaoa_/fid/'"
   ]
  },
  {
   "cell_type": "code",
   "execution_count": 5,
   "metadata": {},
   "outputs": [],
   "source": [
    "\n",
    "for file_name in os.listdir(code_folder_path):\n",
    "    # Construct the full path to the code file\n",
    "    code_file_path = os.path.join(code_folder_path, file_name)\n",
    "    if \"json\" in file_name:\n",
    "        # Construct the command to run the simulator\n",
    "        command = [\"python\", fidelity_py, code_file_path, fid_folder_path]\n",
    "        # Execute the command\n",
    "        subprocess.run(command)"
   ]
  },
  {
   "cell_type": "code",
   "execution_count": 6,
   "metadata": {},
   "outputs": [
    {
     "name": "stdout",
     "output_type": "stream",
     "text": [
      "Main DataFrame:\n",
      "                        file_name  cir_fidelity  cir_fidelity_1q_gate  \\\n",
      "182  qft50 5 2 full code fidelity      0.029812                     1   \n",
      "183  qft50 5 3 full code fidelity      0.029140                     1   \n",
      "186  qft50 5 6 full code fidelity      0.028919                     1   \n",
      "187  qft50 5 7 full code fidelity      0.028919                     1   \n",
      "180  qft50 5 0 full code fidelity      0.030269                     1   \n",
      "\n",
      "     cir_fidelity_2q_gate  cir_fidelity_2q_gate_for_idle  \\\n",
      "182                     1                              1   \n",
      "183                     1                              1   \n",
      "186                     1                              1   \n",
      "187                     1                              1   \n",
      "180                     1                              1   \n",
      "\n",
      "     cir_fidelity_atom_transfer  cir_fidelity_coherence  \\\n",
      "182                    0.086188                0.345900   \n",
      "183                    0.086188                0.338100   \n",
      "186                    0.086188                0.335538   \n",
      "187                    0.086188                0.335538   \n",
      "180                    0.086188                0.351198   \n",
      "\n",
      "     cir_fidelity_coherence_big  num_two_qubit_gate  num_gate_stage  \\\n",
      "182                    0.992983                   0               0   \n",
      "183                    0.992830                   0               0   \n",
      "186                    0.992779                   0               0   \n",
      "187                    0.992779                   0               0   \n",
      "180                    0.993084                   0               0   \n",
      "\n",
      "     num_transfer  num_movement_stage  num_big_move  num_offset_move  \\\n",
      "182          2450                 552           138              414   \n",
      "183          2450                 564           141              423   \n",
      "186          2450                 568           142              426   \n",
      "187          2450                 568           142              426   \n",
      "180          2450                 544           136              408   \n",
      "\n",
      "     total_move_dis  bigmov_dis  offset_dis  average_movement  \n",
      "182      167.052632  116.210526   50.842105         40.810477  \n",
      "183      170.684211  118.736842   51.947368         40.810477  \n",
      "186      171.894737  119.578947   52.315789         40.810477  \n",
      "187      171.894737  119.578947   52.315789         40.810477  \n",
      "180      164.631579  114.526316   50.105263         40.810477  \n",
      "\n",
      "Movement Time Ratio DataFrame:\n",
      "                       file_name  index  movement_time_ratio\n",
      "0  qft50 95 0 full code fidelity      0             0.698805\n",
      "1  qft50 95 0 full code fidelity      1             0.699451\n",
      "2  qft50 95 0 full code fidelity      2             0.700098\n",
      "3  qft50 95 0 full code fidelity      3             0.700747\n",
      "4  qft50 95 0 full code fidelity      4             0.701397\n",
      "\n",
      "List Movement Duration DataFrame:\n",
      "                       file_name  index  list_movement_duration\n",
      "0  qft50 95 0 full code fidelity      0               26.967994\n",
      "1  qft50 95 0 full code fidelity      1               76.277007\n",
      "2  qft50 95 0 full code fidelity      2               33.028913\n",
      "3  qft50 95 0 full code fidelity      3               26.967994\n",
      "4  qft50 95 0 full code fidelity      4               26.967994\n"
     ]
    }
   ],
   "source": [
    "# List to store the data\n",
    "data_list = []\n",
    "\n",
    "# Loop through files in the directory\n",
    "for file_name in os.listdir(fid_folder_path):\n",
    "    file_path = os.path.join(fid_folder_path, file_name)\n",
    "    with open(file_path, 'r') as file:\n",
    "        data = json.load(file)\n",
    "        cleaned_name = clean_file_name(file_name)\n",
    "        data['file_name'] = cleaned_name  # Clean and format the file name\n",
    "        data['numeric_part'] = extract_numeric_part(cleaned_name)\n",
    "        # print(cleaned_name)\n",
    "        data_list.append(data)\n",
    "# print(data_list)\n",
    "\n",
    "# Create a DataFrame for the main metrics\n",
    "df_main = pd.DataFrame([\n",
    "    {'file_name': d['file_name'], **{k: v for k, v in d.items() if k != 'file_name' and isinstance(v, (int, float))}}\n",
    "    for d in data_list\n",
    "])\n",
    "\n",
    "# Sort the DataFrame based on the numeric part\n",
    "df_main = df_main.sort_values(by='numeric_part').drop(columns='numeric_part')\n",
    "\n",
    "# Create separate DataFrames for the lists\n",
    "movement_time_ratio_list = []\n",
    "list_movement_duration_list = []\n",
    "\n",
    "for d in data_list:\n",
    "    for idx, value in enumerate(d['movement_time_ratio']):\n",
    "        movement_time_ratio_list.append({\n",
    "            'file_name': d['file_name'],\n",
    "            'index': idx,\n",
    "            'movement_time_ratio': value\n",
    "        })\n",
    "    for idx, value in enumerate(d['list_movement_duration']):\n",
    "        list_movement_duration_list.append({\n",
    "            'file_name': d['file_name'],\n",
    "            'index': idx,\n",
    "            'list_movement_duration': value\n",
    "        })\n",
    "\n",
    "df_movement_time_ratio = pd.DataFrame(movement_time_ratio_list)\n",
    "df_list_movement_duration = pd.DataFrame(list_movement_duration_list)\n",
    "\n",
    "# Display the DataFrames for analysis\n",
    "print(\"Main DataFrame:\")\n",
    "print(df_main.head())\n",
    "\n",
    "print(\"\\nMovement Time Ratio DataFrame:\")\n",
    "print(df_movement_time_ratio.head())\n",
    "\n",
    "print(\"\\nList Movement Duration DataFrame:\")\n",
    "print(df_list_movement_duration.head())\n",
    "\n",
    "# Save the DataFrames to CSV files if needed\n",
    "df_main.to_csv(data_folder+f'{folder_map}_combined_main_results_.csv', index=False)\n",
    "# df_movement_time_ratio.to_csv(data_folder+f'{map_type}_combined_movement_time_ratio.csv', index=False)\n",
    "# df_list_movement_duration.to_csv(data_folder+f'{map_type}_combined_list_movement_duration.csv', index=False)"
   ]
  }
 ],
 "metadata": {
  "kernelspec": {
   "display_name": "base",
   "language": "python",
   "name": "python3"
  },
  "language_info": {
   "codemirror_mode": {
    "name": "ipython",
    "version": 3
   },
   "file_extension": ".py",
   "mimetype": "text/x-python",
   "name": "python",
   "nbconvert_exporter": "python",
   "pygments_lexer": "ipython3",
   "version": "3.12.2"
  }
 },
 "nbformat": 4,
 "nbformat_minor": 2
}
