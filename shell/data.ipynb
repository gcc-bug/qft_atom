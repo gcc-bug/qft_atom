{
 "cells": [
  {
   "cell_type": "code",
   "execution_count": null,
   "metadata": {
    "notebookRunGroups": {
     "groupValue": "1"
    }
   },
   "outputs": [],
   "source": [
    "import os\n",
    "import json\n",
    "import pandas as pd\n",
    "import subprocess\n",
    "\n",
    "# Function to clean and format file names and extract numeric part\n",
    "def clean_file_name(file_name):\n",
    "    base_name = os.path.splitext(file_name)[0]  # Remove extension\n",
    "    cleaned_name = base_name.replace('_', ' ').replace('code full', '').strip()\n",
    "    return cleaned_name\n",
    "\n",
    "def extract_numeric_part(file_name):\n",
    "    parts = file_name.split()\n",
    "    for part in parts:\n",
    "        if part.isdigit():\n",
    "            return int(part)\n",
    "    return 0"
   ]
  },
  {
   "cell_type": "code",
   "execution_count": null,
   "metadata": {},
   "outputs": [],
   "source": [
    "fidelity_py = \"../simulator.py\"\n",
    "data_folder = \"../\"\n",
    "os.makedirs(data_folder,exist_ok=True)\n",
    "data_folder = f\"{data_folder}/\"\n",
    "data_folder"
   ]
  },
  {
   "cell_type": "code",
   "execution_count": null,
   "metadata": {},
   "outputs": [],
   "source": [
    "# Directory containing the JSON files\n",
    "folder_map = False\n",
    "code_folder_path = f'../linear_map'\n",
    "fid_folder_path = f'../fid/'"
   ]
  },
  {
   "cell_type": "code",
   "execution_count": null,
   "metadata": {},
   "outputs": [],
   "source": [
    "\n",
    "for file_name in os.listdir(code_folder_path):\n",
    "    # Construct the full path to the code file\n",
    "    code_file_path = os.path.join(code_folder_path, file_name)\n",
    "    if \"json\" in file_name:\n",
    "        # Construct the command to run the simulator\n",
    "        command = [\"python\", fidelity_py, code_file_path, fid_folder_path]\n",
    "        # Execute the command\n",
    "        subprocess.run(command)"
   ]
  },
  {
   "cell_type": "code",
   "execution_count": null,
   "metadata": {},
   "outputs": [],
   "source": [
    "# List to store the data\n",
    "data_list = []\n",
    "\n",
    "# Loop through files in the directory\n",
    "for file_name in os.listdir(fid_folder_path):\n",
    "    file_path = os.path.join(fid_folder_path, file_name)\n",
    "    with open(file_path, 'r') as file:\n",
    "        data = json.load(file)\n",
    "        cleaned_name = clean_file_name(file_name)\n",
    "        data['file_name'] = cleaned_name  # Clean and format the file name\n",
    "        data['numeric_part'] = extract_numeric_part(cleaned_name)\n",
    "        # print(cleaned_name)\n",
    "        data_list.append(data)\n",
    "# print(len(data_list))\n",
    "\n",
    "# Create a DataFrame for the main metrics\n",
    "df_main = pd.DataFrame([\n",
    "    {'file_name': d['file_name'], **{k: v for k, v in d.items() if k != 'file_name' and isinstance(v, (int, float))}}\n",
    "    for d in data_list\n",
    "])\n",
    "\n",
    "# Sort the DataFrame based on the numeric part\n",
    "df_main = df_main.sort_values(by='numeric_part').drop(columns='numeric_part')\n",
    "\n",
    "# Create separate DataFrames for the lists\n",
    "movement_time_ratio_list = []\n",
    "list_movement_duration_list = []\n",
    "\n",
    "for d in data_list:\n",
    "    for idx, value in enumerate(d['movement_time_ratio']):\n",
    "        movement_time_ratio_list.append({\n",
    "            'file_name': d['file_name'],\n",
    "            'index': idx,\n",
    "            'movement_time_ratio': value\n",
    "        })\n",
    "    for idx, value in enumerate(d['list_movement_duration']):\n",
    "        list_movement_duration_list.append({\n",
    "            'file_name': d['file_name'],\n",
    "            'index': idx,\n",
    "            'list_movement_duration': value\n",
    "        })\n",
    "\n",
    "df_movement_time_ratio = pd.DataFrame(movement_time_ratio_list)\n",
    "df_list_movement_duration = pd.DataFrame(list_movement_duration_list)\n",
    "\n",
    "# Display the DataFrames for analysis\n",
    "print(\"Main DataFrame:\")\n",
    "print(df_main.head())\n",
    "\n",
    "print(\"\\nMovement Time Ratio DataFrame:\")\n",
    "print(df_movement_time_ratio.head())\n",
    "\n",
    "print(\"\\nList Movement Duration DataFrame:\")\n",
    "print(df_list_movement_duration.head())\n",
    "\n",
    "# Save the DataFrames to CSV files if needed\n",
    "df_main.to_csv(data_folder+f'{folder_map}_combined_main_results_.csv', index=False)\n",
    "# df_movement_time_ratio.to_csv(data_folder+f'{map_type}_combined_movement_time_ratio.csv', index=False)\n",
    "# df_list_movement_duration.to_csv(data_folder+f'{map_type}_combined_list_movement_duration.csv', index=False)"
   ]
  }
 ],
 "metadata": {
  "kernelspec": {
   "display_name": "base",
   "language": "python",
   "name": "python3"
  },
  "language_info": {
   "codemirror_mode": {
    "name": "ipython",
    "version": 3
   },
   "file_extension": ".py",
   "mimetype": "text/x-python",
   "name": "python",
   "nbconvert_exporter": "python",
   "pygments_lexer": "ipython3",
   "version": "3.12.2"
  }
 },
 "nbformat": 4,
 "nbformat_minor": 2
}
