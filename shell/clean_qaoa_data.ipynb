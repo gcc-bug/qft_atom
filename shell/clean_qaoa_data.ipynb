{
 "cells": [
  {
   "cell_type": "code",
   "execution_count": 5,
   "metadata": {},
   "outputs": [
    {
     "name": "stdout",
     "output_type": "stream",
     "text": [
      "Empty DataFrame\n",
      "Columns: [file_name, cir_fidelity, cir_fidelity_1q_gate, cir_fidelity_2q_gate, cir_fidelity_2q_gate_for_idle, cir_fidelity_atom_transfer, cir_fidelity_coherence, cir_fidelity_coherence_big, num_two_qubit_gate, num_gate_stage, num_transfer, num_movement_stage, num_big_move, total_move_dis, average_movement]\n",
      "Index: []\n",
      "Group N-1 data saved: 16 rows.\n",
      "Group N-3 data saved: 17 rows.\n"
     ]
    }
   ],
   "source": [
    "import pandas as pd\n",
    "\n",
    "# Load the CSV file\n",
    "data_folder = '/home/gaodc/code/Enola/data/qaoa/'\n",
    "file_path = 'False_combined_main_results.csv'  # Replace with your CSV file path\n",
    "data = pd.read_csv(data_folder+file_path)\n",
    "\n",
    "# Define functions to check n-1 and n-3 patterns\n",
    "def is_n1(file_name):\n",
    "    try:\n",
    "        parts = file_name.split()\n",
    "        if parts[0] == 'qaoa' and int(parts[2]) == int(parts[1]) - 1:\n",
    "            return True\n",
    "    except:\n",
    "        pass\n",
    "    return False\n",
    "\n",
    "def is_n3(file_name):\n",
    "    try:\n",
    "        parts = file_name.split()\n",
    "        if parts[0] == 'qaoa' and int(parts[2]) == int(parts[1]) - 3:\n",
    "            return True\n",
    "    except:\n",
    "        pass\n",
    "    return False\n",
    "\n",
    "# Filter data into groups\n",
    "group_n1 = data[data['file_name'].apply(is_n1)]\n",
    "group_n3 = data[data['file_name'].apply(is_n3)]\n",
    "\n",
    "# Identify invalid rows\n",
    "invalid_rows = data[~data['file_name'].apply(is_n1) & ~data['file_name'].apply(is_n3)]\n",
    "\n",
    "print(invalid_rows)\n",
    "# Save cleaned data into separate files\n",
    "group_n1.to_csv(f'{data_folder}/rg_1_data.csv', index=False)\n",
    "group_n3.to_csv(f'{data_folder}/rg_3_data.csv', index=False)\n",
    "\n",
    "# Print summary of results\n",
    "print(f\"Group N-1 data saved: {len(group_n1)} rows.\")\n",
    "print(f\"Group N-3 data saved: {len(group_n3)} rows.\")"
   ]
  }
 ],
 "metadata": {
  "kernelspec": {
   "display_name": "base",
   "language": "python",
   "name": "python3"
  },
  "language_info": {
   "codemirror_mode": {
    "name": "ipython",
    "version": 3
   },
   "file_extension": ".py",
   "mimetype": "text/x-python",
   "name": "python",
   "nbconvert_exporter": "python",
   "pygments_lexer": "ipython3",
   "version": "3.12.2"
  }
 },
 "nbformat": 4,
 "nbformat_minor": 2
}
