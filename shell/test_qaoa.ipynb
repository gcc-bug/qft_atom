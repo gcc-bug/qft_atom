{
 "cells": [
  {
   "cell_type": "code",
   "execution_count": 1,
   "metadata": {},
   "outputs": [],
   "source": [
    "import os, sys\n",
    "sys.path.append(os.path.abspath('..'))\n",
    "from qft import QFT, read_edges_from_qasm\n",
    "from Enola.route import *"
   ]
  },
  {
   "cell_type": "code",
   "execution_count": 2,
   "metadata": {},
   "outputs": [
    {
     "name": "stdout",
     "output_type": "stream",
     "text": [
      "using edges\n"
     ]
    }
   ],
   "source": [
    "num_q = 50\n",
    "cir = QFT(num_q)\n",
    "maps = cir.LNN_maps(-1)\n",
    "d = 4\n",
    "edges = read_edges_from_qasm(f\"../random_qaoa/qasm/qft{num_q}_{d}.qasm\")\n",
    "cir.to_random_qaoa(d,edges)"
   ]
  },
  {
   "cell_type": "code",
   "execution_count": 4,
   "metadata": {},
   "outputs": [
    {
     "name": "stdout",
     "output_type": "stream",
     "text": [
      "[[0, 1]]\n",
      "[[1, 2], [0, 3]]\n",
      "[[0, 4]]\n",
      "[[2, 3], [1, 4]]\n",
      "[[1, 5], [0, 6]]\n",
      "[[2, 5]]\n",
      "[[3, 5], [2, 6]]\n",
      "[[4, 5], [3, 6]]\n",
      "[[4, 6]]\n"
     ]
    }
   ],
   "source": [
    "for i, gates in enumerate(cir.gate_list):\n",
    "    if cir.ignore_gates[i]:\n",
    "        print(gates)"
   ]
  },
  {
   "cell_type": "code",
   "execution_count": 3,
   "metadata": {},
   "outputs": [],
   "source": [
    "route = QuantumRouter(num_q,cir.maps,cir.gate_list,[60,60],cir.ignore_gates,\"others\")\n",
    "route.run()"
   ]
  },
  {
   "cell_type": "code",
   "execution_count": 4,
   "metadata": {},
   "outputs": [
    {
     "name": "stdout",
     "output_type": "stream",
     "text": [
      "test.json\n"
     ]
    }
   ],
   "source": [
    "route.save_program(\"test.json\")"
   ]
  },
  {
   "cell_type": "code",
   "execution_count": 1,
   "metadata": {},
   "outputs": [],
   "source": [
    "from qft import QFT\n",
    "from Enola.route import *"
   ]
  },
  {
   "cell_type": "code",
   "execution_count": 2,
   "metadata": {},
   "outputs": [
    {
     "name": "stdout",
     "output_type": "stream",
     "text": [
      "QASM file 'test_20/qasm/qft_20_0.qasm' has been created.\n",
      "test_20/code/20_0.json\n",
      "QASM file 'test_20/qasm/qft_20_1.qasm' has been created.\n",
      "test_20/code/20_1.json\n",
      "QASM file 'test_20/qasm/qft_20_2.qasm' has been created.\n",
      "test_20/code/20_2.json\n",
      "QASM file 'test_20/qasm/qft_20_3.qasm' has been created.\n",
      "test_20/code/20_3.json\n",
      "QASM file 'test_20/qasm/qft_20_4.qasm' has been created.\n",
      "test_20/code/20_4.json\n",
      "QASM file 'test_20/qasm/qft_20_5.qasm' has been created.\n",
      "test_20/code/20_5.json\n",
      "QASM file 'test_20/qasm/qft_20_6.qasm' has been created.\n",
      "test_20/code/20_6.json\n",
      "QASM file 'test_20/qasm/qft_20_7.qasm' has been created.\n",
      "test_20/code/20_7.json\n",
      "QASM file 'test_20/qasm/qft_20_8.qasm' has been created.\n",
      "test_20/code/20_8.json\n",
      "QASM file 'test_20/qasm/qft_20_9.qasm' has been created.\n",
      "test_20/code/20_9.json\n",
      "QASM file 'test_20/qasm/qft_20_10.qasm' has been created.\n",
      "test_20/code/20_10.json\n",
      "QASM file 'test_20/qasm/qft_20_11.qasm' has been created.\n",
      "test_20/code/20_11.json\n",
      "QASM file 'test_20/qasm/qft_20_12.qasm' has been created.\n",
      "test_20/code/20_12.json\n",
      "QASM file 'test_20/qasm/qft_20_13.qasm' has been created.\n",
      "test_20/code/20_13.json\n",
      "QASM file 'test_20/qasm/qft_20_14.qasm' has been created.\n",
      "test_20/code/20_14.json\n",
      "QASM file 'test_20/qasm/qft_20_15.qasm' has been created.\n",
      "test_20/code/20_15.json\n",
      "QASM file 'test_20/qasm/qft_20_16.qasm' has been created.\n",
      "test_20/code/20_16.json\n",
      "QASM file 'test_20/qasm/qft_20_17.qasm' has been created.\n",
      "test_20/code/20_17.json\n",
      "QASM file 'test_20/qasm/qft_20_18.qasm' has been created.\n",
      "test_20/code/20_18.json\n",
      "QASM file 'test_20/qasm/qft_20_19.qasm' has been created.\n",
      "test_20/code/20_19.json\n"
     ]
    }
   ],
   "source": [
    "num_q = 20\n",
    "for i in range(20):\n",
    "    cir = QFT(num_q)\n",
    "    maps = cir.LNN_maps(-1)\n",
    "    cir.remove_gate(i)\n",
    "    cir.export_to_qasm(f\"test_20/qasm/qft_{num_q}_{i}.qasm\")\n",
    "    route = QuantumRouter(num_q,cir.maps,cir.gate_list,[num_q+1,3],cir.qaoa,\"others\")\n",
    "    route.run()\n",
    "    route.save_program(f\"test_20/code/{num_q}_{i}.json\")\n",
    "    "
   ]
  }
 ],
 "metadata": {
  "kernelspec": {
   "display_name": "base",
   "language": "python",
   "name": "python3"
  },
  "language_info": {
   "codemirror_mode": {
    "name": "ipython",
    "version": 3
   },
   "file_extension": ".py",
   "mimetype": "text/x-python",
   "name": "python",
   "nbconvert_exporter": "python",
   "pygments_lexer": "ipython3",
   "version": "3.12.2"
  }
 },
 "nbformat": 4,
 "nbformat_minor": 2
}
