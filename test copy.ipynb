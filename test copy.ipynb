{
 "cells": [
  {
   "cell_type": "code",
   "execution_count": 1,
   "metadata": {},
   "outputs": [],
   "source": [
    "from qft import *\n",
    "from qiskit import qasm2\n",
    "import pandas as pd\n",
    "from Enola.route import *\n",
    "import os\n",
    "import subprocess"
   ]
  },
  {
   "cell_type": "code",
   "execution_count": 2,
   "metadata": {},
   "outputs": [],
   "source": [
    "code_folder_path = \"test_20\"\n",
    "fidelity_py = \"simulator.py\"\n",
    "fid_folder_path = \"fid_20/\""
   ]
  },
  {
   "cell_type": "markdown",
   "metadata": {},
   "source": [
    "diff size"
   ]
  },
  {
   "cell_type": "code",
   "execution_count": 3,
   "metadata": {},
   "outputs": [
    {
     "name": "stdout",
     "output_type": "stream",
     "text": [
      "-2\n",
      "0\n",
      "2\n",
      "4\n",
      "6\n",
      "8\n",
      "10\n",
      "12\n",
      "14\n"
     ]
    }
   ],
   "source": [
    "num_q = 20\n",
    "for c in range(-2,16,2):\n",
    "    print(c)\n",
    "    if c >= 2:\n",
    "        m = 16\n",
    "        n = 16\n",
    "    else:\n",
    "        if c < 0 :\n",
    "            m = 25\n",
    "            n = 2\n",
    "        else:\n",
    "            m = 2\n",
    "            n = 25\n",
    "    cir = QFT(num_q)\n",
    "    maps = cir.LNN_maps(c)\n",
    "    route = QuantumRouter(num_q,maps,cir.gate_list,[m,n],\"others\")\n",
    "    route.run()\n",
    "    route.save_program(f\"{code_folder_path}/test_{num_q}_{c}_full.json\")"
   ]
  },
  {
   "cell_type": "code",
   "execution_count": 4,
   "metadata": {},
   "outputs": [],
   "source": [
    "for file_name in os.listdir(code_folder_path):\n",
    "    # Construct the full path to the code file\n",
    "    code_file_path = os.path.join(code_folder_path, file_name)\n",
    "    if \"full\" in file_name:\n",
    "        # Construct the command to run the simulator\n",
    "        command = [\"python\", fidelity_py, code_file_path, fid_folder_path]\n",
    "        # Execute the command\n",
    "        subprocess.run(command)"
   ]
  }
 ],
 "metadata": {
  "kernelspec": {
   "display_name": ".venv",
   "language": "python",
   "name": "python3"
  },
  "language_info": {
   "codemirror_mode": {
    "name": "ipython",
    "version": 3
   },
   "file_extension": ".py",
   "mimetype": "text/x-python",
   "name": "python",
   "nbconvert_exporter": "python",
   "pygments_lexer": "ipython3",
   "version": "3.10.12"
  }
 },
 "nbformat": 4,
 "nbformat_minor": 2
}
