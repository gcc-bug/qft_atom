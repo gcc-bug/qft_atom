{
 "cells": [
  {
   "cell_type": "code",
   "execution_count": 4,
   "metadata": {},
   "outputs": [],
   "source": [
    "import json\n",
    "import pandas as pd\n",
    "from openpyxl import load_workbook\n",
    "from openpyxl.styles import PatternFill"
   ]
  },
  {
   "cell_type": "code",
   "execution_count": 5,
   "metadata": {},
   "outputs": [
    {
     "name": "stdout",
     "output_type": "stream",
     "text": [
      "1105\n"
     ]
    }
   ],
   "source": [
    "file = \"test_20/test_20_0_code_full.json\"\n",
    "with open(file, 'r') as file:\n",
    "    data = json.load(file)\n",
    "print(len(data))\n",
    "data_list = []\n",
    "for d in data:\n",
    "    data_list.append({'type':d['type'],'name':d['name']})\n",
    "data_frame = pd.DataFrame(data_list)\n",
    "data_frame.to_excel(\"data.xlsx\")\n",
    "# Load the workbook and select the active sheet\n",
    "workbook = load_workbook(\"data.xlsx\")\n",
    "sheet = workbook.active\n",
    "\n",
    "# Define a fill color (yellow in this case)\n",
    "yellow_fill = PatternFill(start_color=\"FFFF00\", end_color=\"FFFF00\", fill_type=\"solid\")\n",
    "\n",
    "# Find the column index for the 'name' column\n",
    "name_column = None\n",
    "for idx, cell in enumerate(sheet[1]):\n",
    "    if cell.value == 'name':\n",
    "        name_column = idx + 1  # Excel columns are 1-based\n",
    "        break\n",
    "\n",
    "for row in sheet.iter_rows(min_row=2):  # Start from the second row to skip the header\n",
    "    if \"Rydberg\" in row[name_column - 1].value:  # Compare with the 'name' column value\n",
    "        for cell in row:\n",
    "            cell.fill = yellow_fill\n",
    "\n",
    "# Save the workbook with the new styling\n",
    "workbook.save(\"data_0.xlsx\")"
   ]
  },
  {
   "cell_type": "code",
   "execution_count": 6,
   "metadata": {},
   "outputs": [
    {
     "name": "stdout",
     "output_type": "stream",
     "text": [
      "1445\n"
     ]
    }
   ],
   "source": [
    "file = \"test_20/test_20_10_code_full.json\"\n",
    "with open(file, 'r') as file:\n",
    "    data = json.load(file)\n",
    "print(len(data))\n",
    "data_list = []\n",
    "for d in data:\n",
    "    data_list.append({'type':d['type'],'name':d['name']})\n",
    "data_frame = pd.DataFrame(data_list)\n",
    "data_frame.to_excel(\"data.xlsx\")\n",
    "# Load the workbook and select the active sheet\n",
    "workbook = load_workbook(\"data.xlsx\")\n",
    "sheet = workbook.active\n",
    "\n",
    "# Define a fill color (yellow in this case)\n",
    "yellow_fill = PatternFill(start_color=\"FFFF00\", end_color=\"FFFF00\", fill_type=\"solid\")\n",
    "\n",
    "# Find the column index for the 'name' column\n",
    "name_column = None\n",
    "for idx, cell in enumerate(sheet[1]):\n",
    "    if cell.value == 'name':\n",
    "        name_column = idx + 1  # Excel columns are 1-based\n",
    "        break\n",
    "\n",
    "for row in sheet.iter_rows(min_row=2):  # Start from the second row to skip the header\n",
    "    if \"Rydberg\" in row[name_column - 1].value:  # Compare with the 'name' column value\n",
    "        for cell in row:\n",
    "            cell.fill = yellow_fill\n",
    "\n",
    "# Save the workbook with the new styling\n",
    "workbook.save(\"data_10.xlsx\")"
   ]
  }
 ],
 "metadata": {
  "kernelspec": {
   "display_name": ".venv",
   "language": "python",
   "name": "python3"
  },
  "language_info": {
   "codemirror_mode": {
    "name": "ipython",
    "version": 3
   },
   "file_extension": ".py",
   "mimetype": "text/x-python",
   "name": "python",
   "nbconvert_exporter": "python",
   "pygments_lexer": "ipython3",
   "version": "3.10.12"
  }
 },
 "nbformat": 4,
 "nbformat_minor": 2
}
