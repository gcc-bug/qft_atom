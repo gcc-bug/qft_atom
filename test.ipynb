{
 "cells": [
  {
   "cell_type": "code",
   "execution_count": 1,
   "metadata": {},
   "outputs": [],
   "source": [
    "from qft import *"
   ]
  },
  {
   "cell_type": "code",
   "execution_count": 2,
   "metadata": {},
   "outputs": [
    {
     "name": "stdout",
     "output_type": "stream",
     "text": [
      "                                                                 \n",
      "q_0: ─■──■──■──■──■─────■─────■─────■────────────────────────────\n",
      "      │  │  │  │  │     │     │     │                            \n",
      "q_1: ─■──■──┼──┼──┼──■──┼──■──┼──■──┼──■──■─────■────────────────\n",
      "            │  │  │  │  │  │  │  │  │  │  │     │                \n",
      "q_2: ───────■──■──┼──■──┼──■──┼──┼──┼──┼──┼──■──┼──■──■──■───────\n",
      "                  │     │     │  │  │  │  │  │  │  │  │  │       \n",
      "q_3: ─────────────■─────■─────┼──■──┼──■──┼──■──┼──■──┼──┼──■──■─\n",
      "                              │     │     │     │     │  │  │  │ \n",
      "q_4: ─────────────────────────■─────■─────■─────■─────■──■──■──■─\n",
      "                                                                 \n"
     ]
    }
   ],
   "source": [
    "num_q = 5\n",
    "cir = QFT(num_q)\n",
    "cir.draw()"
   ]
  },
  {
   "cell_type": "code",
   "execution_count": 3,
   "metadata": {},
   "outputs": [
    {
     "data": {
      "text/plain": [
       "[[],\n",
       " [[0, 1], [0, 1]],\n",
       " [[0, 2], [0, 2]],\n",
       " [[0, 3], [1, 2], [0, 3], [1, 2]],\n",
       " [[0, 4], [1, 3], [0, 4], [1, 3]],\n",
       " [[1, 4], [2, 3], [1, 4], [2, 3]],\n",
       " [[2, 4], [2, 4]],\n",
       " [[3, 4], [3, 4]]]"
      ]
     },
     "execution_count": 3,
     "metadata": {},
     "output_type": "execute_result"
    }
   ],
   "source": [
    "cir.gate_list"
   ]
  },
  {
   "cell_type": "code",
   "execution_count": 4,
   "metadata": {},
   "outputs": [],
   "source": [
    "# # def map(cir) -> list[list[int]]:\n",
    "# maps = []\n",
    "# new_map = [[1,i+1] for i in range(cir.num_qubits)]\n",
    "# for i,gates in enumerate(cir.gate_list):\n",
    "#     if i % 2 == 0:\n",
    "#         for gate in gates:\n",
    "#             new_map[gate[0]],new_map[gate[1]] = new_map[gate[1]],new_map[gate[0]]\n",
    "#     else:\n",
    "#         for gate in gates:\n",
    "#             new_map[gate[0]] = new_map[gate[1]]\n",
    "#     maps.append(new_map)\n",
    "#     new_map = copy.deepcopy(maps[-1])\n",
    "    \n",
    "#     # return maps\n",
    "# gate_list = [[]]\n",
    "# new_maps =[maps[0]]\n",
    "# for i in range(1,len(maps)):\n",
    "#     if maps[i] == maps[i-1]:\n",
    "        "
   ]
  },
  {
   "cell_type": "code",
   "execution_count": 8,
   "metadata": {},
   "outputs": [
    {
     "data": {
      "text/plain": [
       "[[[1, 2], [1, 2], [1, 3], [1, 4], [1, 5]],\n",
       " [[1, 3], [1, 2], [1, 3], [1, 4], [1, 5]],\n",
       " [[1, 4], [1, 3], [1, 3], [1, 4], [1, 5]],\n",
       " [[1, 5], [1, 4], [1, 3], [1, 4], [1, 5]],\n",
       " [[1, 6], [1, 5], [1, 4], [1, 4], [1, 5]],\n",
       " [[1, 6], [1, 5], [1, 4], [1, 4], [1, 5]],\n",
       " [[1, 6], [1, 5], [1, 4], [1, 4], [1, 5]],\n",
       " [[1, 6], [1, 5], [1, 4], [1, 4], [1, 5]]]"
      ]
     },
     "execution_count": 8,
     "metadata": {},
     "output_type": "execute_result"
    }
   ],
   "source": [
    "# def map(cir) -> list[list[int]]:\n",
    "maps = []\n",
    "new_map = [[1,i+1] for i in range(cir.num_qubits)]\n",
    "AOD_qubits = []\n",
    "\n",
    "def update_AOD_qubits(locations, AOD_qubits,dir=[0,1]):\n",
    "    new_loc = copy.deepcopy(locations)\n",
    "    for qubit in AOD_qubits:\n",
    "        new_loc[qubit][0] += dir[0]\n",
    "        new_loc[qubit][1] += dir[1]\n",
    "    return new_loc\n",
    "        \n",
    "    \n",
    "for i in range(len(cir.gate_list)):\n",
    "    # if i % 2 != 0:\n",
    "    if i%2 == 0:\n",
    "        AOD_qubits.append(i//2)\n",
    "    new_map = update_AOD_qubits(new_map,AOD_qubits)\n",
    "    # else:\n",
    "    #     for qubit in range(cir.num_qubits):\n",
    "    #         new_map[qubit][1] += 1\n",
    "    maps.append(new_map)\n",
    "    new_map = copy.deepcopy(maps[-1])\n",
    "    \n",
    "    # return maps\n",
    "maps"
   ]
  },
  {
   "cell_type": "code",
   "execution_count": 5,
   "metadata": {},
   "outputs": [],
   "source": [
    "from Enola.route import *"
   ]
  },
  {
   "cell_type": "code",
   "execution_count": 6,
   "metadata": {},
   "outputs": [
    {
     "name": "stdout",
     "output_type": "stream",
     "text": [
      "layers len1\n",
      "layers len0\n"
     ]
    },
    {
     "ename": "IndexError",
     "evalue": "list index out of range",
     "output_type": "error",
     "traceback": [
      "\u001b[0;31m---------------------------------------------------------------------------\u001b[0m",
      "\u001b[0;31mIndexError\u001b[0m                                Traceback (most recent call last)",
      "Cell \u001b[0;32mIn[6], line 2\u001b[0m\n\u001b[1;32m      1\u001b[0m route \u001b[38;5;241m=\u001b[39m QuantumRouter(num_q,maps,cir\u001b[38;5;241m.\u001b[39mgate_list,[\u001b[38;5;241m2\u001b[39m,num_q\u001b[38;5;241m+\u001b[39m\u001b[38;5;241m1\u001b[39m])\n\u001b[0;32m----> 2\u001b[0m \u001b[43mroute\u001b[49m\u001b[38;5;241;43m.\u001b[39;49m\u001b[43mrun\u001b[49m\u001b[43m(\u001b[49m\u001b[38;5;124;43mf\u001b[39;49m\u001b[38;5;124;43m\"\u001b[39;49m\u001b[38;5;124;43mqft_\u001b[39;49m\u001b[38;5;132;43;01m{\u001b[39;49;00m\u001b[43mnum_q\u001b[49m\u001b[38;5;132;43;01m}\u001b[39;49;00m\u001b[38;5;124;43m.json\u001b[39;49m\u001b[38;5;124;43m\"\u001b[39;49m\u001b[43m)\u001b[49m\n",
      "File \u001b[0;32m~/atom/qft/Enola/route.py:361\u001b[0m, in \u001b[0;36mQuantumRouter.run\u001b[0;34m(self, filename)\u001b[0m\n\u001b[1;32m    354\u001b[0m \u001b[38;5;250m\u001b[39m\u001b[38;5;124;03m\"\"\"\u001b[39;00m\n\u001b[1;32m    355\u001b[0m \u001b[38;5;124;03mRun the QuantumRouter to initialize, process embeddings, and save the program.\u001b[39;00m\n\u001b[1;32m    356\u001b[0m \u001b[38;5;124;03m\u001b[39;00m\n\u001b[1;32m    357\u001b[0m \u001b[38;5;124;03mParameters:\u001b[39;00m\n\u001b[1;32m    358\u001b[0m \u001b[38;5;124;03mfilename (str): The filename to save the program.\u001b[39;00m\n\u001b[1;32m    359\u001b[0m \u001b[38;5;124;03m\"\"\"\u001b[39;00m\n\u001b[1;32m    360\u001b[0m \u001b[38;5;28mself\u001b[39m\u001b[38;5;241m.\u001b[39minitialize_program()\n\u001b[0;32m--> 361\u001b[0m \u001b[38;5;28;43mself\u001b[39;49m\u001b[38;5;241;43m.\u001b[39;49m\u001b[43mprocess_all_embeddings\u001b[49m\u001b[43m(\u001b[49m\u001b[43m)\u001b[49m\n\u001b[1;32m    362\u001b[0m \u001b[38;5;28mself\u001b[39m\u001b[38;5;241m.\u001b[39msave_program(filename)\n",
      "File \u001b[0;32m~/atom/qft/Enola/route.py:273\u001b[0m, in \u001b[0;36mQuantumRouter.process_all_embeddings\u001b[0;34m(self)\u001b[0m\n\u001b[1;32m    269\u001b[0m \u001b[38;5;250m\u001b[39m\u001b[38;5;124;03m\"\"\"\u001b[39;00m\n\u001b[1;32m    270\u001b[0m \u001b[38;5;124;03mProcess all embeddings to resolve movements and update the program.\u001b[39;00m\n\u001b[1;32m    271\u001b[0m \u001b[38;5;124;03m\"\"\"\u001b[39;00m\n\u001b[1;32m    272\u001b[0m \u001b[38;5;28;01mfor\u001b[39;00m current_pos \u001b[38;5;129;01min\u001b[39;00m \u001b[38;5;28mrange\u001b[39m(\u001b[38;5;28mlen\u001b[39m(\u001b[38;5;28mself\u001b[39m\u001b[38;5;241m.\u001b[39membeddings) \u001b[38;5;241m-\u001b[39m \u001b[38;5;241m1\u001b[39m):\n\u001b[0;32m--> 273\u001b[0m     movement_program \u001b[38;5;241m=\u001b[39m \u001b[38;5;28;43mself\u001b[39;49m\u001b[38;5;241;43m.\u001b[39;49m\u001b[43mresolve_movements\u001b[49m\u001b[43m(\u001b[49m\u001b[43mcurrent_pos\u001b[49m\u001b[43m)\u001b[49m\n\u001b[1;32m    274\u001b[0m     \u001b[38;5;28mself\u001b[39m\u001b[38;5;241m.\u001b[39mprogram \u001b[38;5;241m+\u001b[39m\u001b[38;5;241m=\u001b[39m movement_program\n",
      "File \u001b[0;32m~/atom/qft/Enola/route.py:292\u001b[0m, in \u001b[0;36mQuantumRouter.resolve_movements\u001b[0;34m(self, current_pos)\u001b[0m\n\u001b[1;32m    290\u001b[0m layers \u001b[38;5;241m=\u001b[39m \u001b[38;5;28mself\u001b[39m\u001b[38;5;241m.\u001b[39mhandle_violations(violations, movements, sorted_movements, current_pos)\n\u001b[1;32m    291\u001b[0m \u001b[38;5;28mprint\u001b[39m(\u001b[38;5;124mf\u001b[39m\u001b[38;5;124m\"\u001b[39m\u001b[38;5;124mlayers len\u001b[39m\u001b[38;5;132;01m{\u001b[39;00m\u001b[38;5;28mlen\u001b[39m(layers)\u001b[38;5;132;01m}\u001b[39;00m\u001b[38;5;124m\"\u001b[39m)\n\u001b[0;32m--> 292\u001b[0m \u001b[43mlayers\u001b[49m\u001b[43m[\u001b[49m\u001b[38;5;28;43mlen\u001b[39;49m\u001b[43m(\u001b[49m\u001b[43mlayers\u001b[49m\u001b[43m)\u001b[49m\u001b[38;5;241;43m-\u001b[39;49m\u001b[38;5;241;43m1\u001b[39;49m\u001b[43m]\u001b[49m[\u001b[38;5;124m\"\u001b[39m\u001b[38;5;124mgates\u001b[39m\u001b[38;5;124m\"\u001b[39m] \u001b[38;5;241m=\u001b[39m gates_in_layer(\u001b[38;5;28mself\u001b[39m\u001b[38;5;241m.\u001b[39mgate_list[next_pos])\n\u001b[1;32m    293\u001b[0m \u001b[38;5;28;01mreturn\u001b[39;00m \u001b[38;5;28mself\u001b[39m\u001b[38;5;241m.\u001b[39mgenerate_program(layers)[\u001b[38;5;241m2\u001b[39m:]\n",
      "\u001b[0;31mIndexError\u001b[0m: list index out of range"
     ]
    }
   ],
   "source": [
    "route = QuantumRouter(num_q,maps,cir.gate_list,[2,2*num_q+1])\n",
    "route.run(f\"qft_{num_q}.json\")"
   ]
  }
 ],
 "metadata": {
  "kernelspec": {
   "display_name": ".venv",
   "language": "python",
   "name": "python3"
  },
  "language_info": {
   "codemirror_mode": {
    "name": "ipython",
    "version": 3
   },
   "file_extension": ".py",
   "mimetype": "text/x-python",
   "name": "python",
   "nbconvert_exporter": "python",
   "pygments_lexer": "ipython3",
   "version": "3.12.4"
  }
 },
 "nbformat": 4,
 "nbformat_minor": 2
}
