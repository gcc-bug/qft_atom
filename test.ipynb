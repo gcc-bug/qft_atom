{
 "cells": [
  {
   "cell_type": "code",
   "execution_count": 1,
   "metadata": {},
   "outputs": [],
   "source": [
    "from qft import *\n",
    "from qiskit import qasm2\n",
    "import pandas as pd"
   ]
  },
  {
   "cell_type": "code",
   "execution_count": 2,
   "metadata": {},
   "outputs": [
    {
     "name": "stdout",
     "output_type": "stream",
     "text": [
      "                                                                 \n",
      "q_0: ─■──■──■──■──■─────■─────■─────■────────────────────────────\n",
      "      │  │  │  │  │     │     │     │                            \n",
      "q_1: ─■──■──┼──┼──┼──■──┼──■──┼──■──┼──■──■─────■────────────────\n",
      "            │  │  │  │  │  │  │  │  │  │  │     │                \n",
      "q_2: ───────■──■──┼──■──┼──■──┼──┼──┼──┼──┼──■──┼──■──■──■───────\n",
      "                  │     │     │  │  │  │  │  │  │  │  │  │       \n",
      "q_3: ─────────────■─────■─────┼──■──┼──■──┼──■──┼──■──┼──┼──■──■─\n",
      "                              │     │     │     │     │  │  │  │ \n",
      "q_4: ─────────────────────────■─────■─────■─────■─────■──■──■──■─\n",
      "                                                                 \n"
     ]
    }
   ],
   "source": [
    "num_q = 5\n",
    "cir = QFT(num_q)\n",
    "cir.draw()"
   ]
  },
  {
   "cell_type": "code",
   "execution_count": 3,
   "metadata": {},
   "outputs": [
    {
     "name": "stdout",
     "output_type": "stream",
     "text": [
      "20\n"
     ]
    },
    {
     "data": {
      "text/plain": [
       "20"
      ]
     },
     "execution_count": 3,
     "metadata": {},
     "output_type": "execute_result"
    }
   ],
   "source": [
    "print(cir.num_gate)\n",
    "sum([len(gates) for gates in cir.gate_list])"
   ]
  },
  {
   "cell_type": "code",
   "execution_count": 4,
   "metadata": {},
   "outputs": [],
   "source": [
    "def move_time(distance):\n",
    "    return 200*((distance/110)**(1/2))"
   ]
  },
  {
   "cell_type": "code",
   "execution_count": 5,
   "metadata": {},
   "outputs": [],
   "source": [
    "import math\n",
    "def set_parameters(default):\n",
    "    para = {}\n",
    "    if default:\n",
    "        para['T_cz'] = 0.2  #us\n",
    "        para['T_eff'] = 1.5e6 #us\n",
    "        para['T_trans'] = 20 # us\n",
    "        para['AOD_width'] = 3 #um\n",
    "        para['AOD_height'] = 3 #um\n",
    "        para['Move_speed'] = 0.55 #um/us\n",
    "        para['F_cz'] = 0.995\n",
    "        para['F_transfer'] = 0.999\n",
    "        para['F_cz_idle'] = 1 - (1-para['F_cz'])/2\n",
    "        para['R_b'] = 6 #um\n",
    "\n",
    "    return para\n",
    "def DasAtom_fidelity(parallel_gates, all_movements, num_q, gate_num):\n",
    "    para = set_parameters(True)\n",
    "    t_total = 0\n",
    "    t_total += (len(parallel_gates) * para['T_cz']) # cz execution time, parallel\n",
    "    t_move = 0\n",
    "    for move in all_movements:\n",
    "        t_total += (4 * para['T_trans']) # pick/drop/pick/drop\n",
    "        t_move += (4 * para['T_trans'])\n",
    "        max_dis = 0\n",
    "        for each_move in move:\n",
    "            x1, y1 = each_move[1][0],each_move[1][1]\n",
    "            x2, y2 = each_move[2][0],each_move[2][1]\n",
    "            dis = (abs(x2-x1)*para['AOD_width'])**2 + (abs(y2-y1)*para['AOD_height'])**2\n",
    "            if dis > max_dis:\n",
    "                max_dis = dis\n",
    "        max_dis = math.sqrt(max_dis)\n",
    "        t_total += (max_dis/para['Move_speed'])\n",
    "        t_move += (max_dis/para['Move_speed'])\n",
    "\n",
    "    t_idle = num_q * t_total - gate_num * para['T_cz']\n",
    "    Fidelity = math.exp(-t_idle/para['T_eff']) * (para['F_cz']**gate_num)\n",
    "    move_fidelity = math.exp(-t_move/para['T_eff'])\n",
    "    return t_idle, Fidelity, move_fidelity\n",
    "\n",
    "def Enola_fidelity(parallel_gates, all_movements, num_q, gate_num):\n",
    "    para = set_parameters(True)\n",
    "    cir_fidelity_1q_gate = 1\n",
    "    cir_fidelity_2q_gate = 1\n",
    "    cir_fidelity_2q_gate_for_idle = 1\n",
    "    cir_fidelity_atom_transfer = 1\n",
    "    cir_fidelity_coherence = 1\n",
    "    cir_qubit_idle_time = [0 for _ in range(num_q)]\n",
    "\n",
    "    # num_gate = sum([len(gates) for gates in parallel_gates])\n",
    "    cir_fidelity_2q_gate = para['F_cz'] ** gate_num\n",
    "    cir_fidelity_2q_gate_for_idle = para['F_cz_idle'] ** (2*(len(parallel_gates)-1)*num_q - 2*gate_num)\n",
    "\n",
    "    for movements in all_movements:\n",
    "        for mov in movements:\n",
    "            q = mov[0]\n",
    "            cir_qubit_idle_time[q] += 4*para['T_trans']\n",
    "        cir_fidelity_atom_transfer *= para['F_transfer']**(4*len(mov))\n",
    "        # TODO: only for d = 1\n",
    "        for i in range(num_q):\n",
    "            cir_qubit_idle_time[i] += move_time(para['R_b'])\n",
    "    for t in cir_qubit_idle_time:\n",
    "            cir_fidelity_coherence *= (1 - t/para[\"T_eff\"])\n",
    "    res = {\"cir_fidelity_1q_gate\":cir_fidelity_1q_gate,\n",
    "            \"cir_fidelity_2q_gate\": cir_fidelity_2q_gate,\n",
    "            \"cir_fidelity_2q_gate_for_idle\":cir_fidelity_2q_gate_for_idle,\n",
    "            \"cir_fidelity_atom_transfer\":cir_fidelity_atom_transfer,\n",
    "            \"cir_fidelity_coherence\":cir_fidelity_coherence,}\n",
    "    cir_fidelity = cir_fidelity_1q_gate * cir_fidelity_2q_gate * cir_fidelity_2q_gate_for_idle \\\n",
    "        * cir_fidelity_atom_transfer * cir_fidelity_coherence\n",
    "    res[\"cir_fidelity\"] = cir_fidelity\n",
    "    return res\n"
   ]
  },
  {
   "cell_type": "code",
   "execution_count": 6,
   "metadata": {},
   "outputs": [
    {
     "data": {
      "text/plain": [
       "[[[1, 1], [1, 2], [1, 3], [1, 4], [1, 5]],\n",
       " [[1, 2], [1, 2], [1, 3], [1, 4], [1, 5]],\n",
       " [[1, 3], [1, 2], [1, 3], [1, 4], [1, 5]],\n",
       " [[1, 4], [1, 3], [1, 3], [1, 4], [1, 5]],\n",
       " [[1, 5], [1, 4], [1, 3], [1, 4], [1, 5]],\n",
       " [[1, 6], [1, 5], [1, 4], [1, 4], [1, 5]],\n",
       " [[1, 7], [1, 6], [1, 5], [1, 4], [1, 5]],\n",
       " [[1, 8], [1, 7], [1, 6], [1, 5], [1, 5]]]"
      ]
     },
     "execution_count": 6,
     "metadata": {},
     "output_type": "execute_result"
    }
   ],
   "source": [
    "def get_maps(cir) -> list[list[int]]:\n",
    "    maps = []\n",
    "    new_map = [[1,i+1] for i in range(cir.num_qubits)]\n",
    "    AOD_qubits = []\n",
    "\n",
    "    def update_AOD_qubits(locations, AOD_qubits,dir=[0,1]):\n",
    "        new_loc = copy.deepcopy(locations)\n",
    "        for qubit in AOD_qubits:\n",
    "            new_loc[qubit][0] += dir[0]\n",
    "            new_loc[qubit][1] += dir[1]\n",
    "        return new_loc\n",
    "            \n",
    "    maps.append(new_map)\n",
    "    for i in range(len(cir.gate_list)-1):\n",
    "        # if i % 2 != 0:\n",
    "        if i%2 == 0:\n",
    "            AOD_qubits.append(i//2)\n",
    "        new_map = update_AOD_qubits(new_map,AOD_qubits)\n",
    "        # else:\n",
    "        #     for qubit in range(cir.num_qubits):\n",
    "        #         new_map[qubit][1] += 1\n",
    "        maps.append(new_map)\n",
    "        new_map = copy.deepcopy(maps[-1])\n",
    "        \n",
    "    return maps\n",
    "maps = get_maps(cir)\n",
    "maps"
   ]
  },
  {
   "cell_type": "code",
   "execution_count": 7,
   "metadata": {},
   "outputs": [],
   "source": [
    "from Enola.route import *"
   ]
  },
  {
   "cell_type": "code",
   "execution_count": 8,
   "metadata": {},
   "outputs": [],
   "source": [
    "route = QuantumRouter(num_q,maps,cir.gate_list,[2,2*num_q+1])\n",
    "route.run()"
   ]
  },
  {
   "cell_type": "code",
   "execution_count": 9,
   "metadata": {},
   "outputs": [
    {
     "data": {
      "text/plain": [
       "[[[[0, (1, 1), (1, 2)]]],\n",
       " [[[0, (1, 2), (1, 3)]]],\n",
       " [[[1, (1, 2), (1, 3)], [0, (1, 3), (1, 4)]]],\n",
       " [[[1, (1, 3), (1, 4)], [0, (1, 4), (1, 5)]]],\n",
       " [[[1, (1, 4), (1, 5)], [2, (1, 3), (1, 4)], [0, (1, 5), (1, 6)]]],\n",
       " [[[1, (1, 5), (1, 6)], [2, (1, 4), (1, 5)], [0, (1, 6), (1, 7)]]],\n",
       " [[[3, (1, 4), (1, 5)],\n",
       "   [1, (1, 6), (1, 7)],\n",
       "   [0, (1, 7), (1, 8)],\n",
       "   [2, (1, 5), (1, 6)]]]]"
      ]
     },
     "execution_count": 9,
     "metadata": {},
     "output_type": "execute_result"
    }
   ],
   "source": [
    "route.movement_list"
   ]
  },
  {
   "cell_type": "code",
   "execution_count": 10,
   "metadata": {},
   "outputs": [
    {
     "name": "stdout",
     "output_type": "stream",
     "text": [
      "['Fidelity:', 0.9028061313935791]\n",
      "['t_idle:', 2994.9090909090914]\n",
      "['move_fidelity', 0.9996012916265293]\n",
      "['Movement times', 7]\n",
      "['parallel times', 8]\n"
     ]
    }
   ],
   "source": [
    "total_paralled = cir.gate_list\n",
    "all_movements = []\n",
    "for num in range(len(maps) - 1):\n",
    "    for paral_moves in route.movement_list[num]:\n",
    "        all_movements.append(paral_moves)\n",
    "gate_num = cir.num_gate\n",
    "t_idle, Fidelity, move_fidelity = DasAtom_fidelity(total_paralled, all_movements, num_q, gate_num)\n",
    "print([\"Fidelity:\", Fidelity])\n",
    "print([\"t_idle:\", t_idle])\n",
    "print([\"move_fidelity\", move_fidelity])\n",
    "print([\"Movement times\", len(all_movements)])\n",
    "print([\"parallel times\", len(total_paralled)])"
   ]
  },
  {
   "cell_type": "code",
   "execution_count": 11,
   "metadata": {},
   "outputs": [
    {
     "data": {
      "text/plain": [
       "{'cir_fidelity_1q_gate': 1,\n",
       " 'cir_fidelity_2q_gate': 0.9046104802746175,\n",
       " 'cir_fidelity_2q_gate_for_idle': 0.9276563692349433,\n",
       " 'cir_fidelity_atom_transfer': 0.9193926150309792,\n",
       " 'cir_fidelity_coherence': 0.998058231422544,\n",
       " 'cir_fidelity': 0.7700264398244803}"
      ]
     },
     "execution_count": 11,
     "metadata": {},
     "output_type": "execute_result"
    }
   ],
   "source": [
    "Enola_fidelity(total_paralled, all_movements, num_q, gate_num)"
   ]
  },
  {
   "cell_type": "code",
   "execution_count": 12,
   "metadata": {},
   "outputs": [],
   "source": [
    "data_list = []\n",
    "for n in range(5,51):\n",
    "    cir = QFT(n)\n",
    "    qasm2.dump(cir.circuit,f\"Bench/qft_{n}.qasm\")\n",
    "    maps = get_maps(cir)\n",
    "    route = QuantumRouter(cir.num_qubits,maps,cir.gate_list,[2,2*n+1])\n",
    "    route.run()\n",
    "    total_paralled = cir.gate_list\n",
    "    all_movements = []\n",
    "    for num in range(len(maps) - 1):\n",
    "        for paral_moves in route.movement_list[num]:\n",
    "            all_movements.append(paral_moves)\n",
    "    gate_num = cir.num_gate\n",
    "    # t_idle, Fidelity, move_fidelity = DasAtom_fidelity(total_paralled, all_movements, n, gate_num)\n",
    "    # data = {\"bench file\": f\"qft_{n}.qasm\",\n",
    "    #         \"cir fidelity\": Fidelity,\n",
    "    #         \"idle time\": t_idle,\n",
    "    #         \"move fidelity\": move_fidelity}\n",
    "    data = Enola_fidelity(total_paralled, all_movements, n, gate_num)\n",
    "    data_list.append(data)"
   ]
  },
  {
   "cell_type": "code",
   "execution_count": 13,
   "metadata": {},
   "outputs": [],
   "source": [
    "data_pd = pd.DataFrame(data_list)\n",
    "data_pd.to_csv(\"qft.csv\")"
   ]
  }
 ],
 "metadata": {
  "kernelspec": {
   "display_name": ".venv",
   "language": "python",
   "name": "python3"
  },
  "language_info": {
   "codemirror_mode": {
    "name": "ipython",
    "version": 3
   },
   "file_extension": ".py",
   "mimetype": "text/x-python",
   "name": "python",
   "nbconvert_exporter": "python",
   "pygments_lexer": "ipython3",
   "version": "3.12.2"
  }
 },
 "nbformat": 4,
 "nbformat_minor": 2
}
