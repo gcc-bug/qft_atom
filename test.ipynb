{
 "cells": [
  {
   "cell_type": "code",
   "execution_count": 1,
   "metadata": {},
   "outputs": [],
   "source": [
    "from qft import *"
   ]
  },
  {
   "cell_type": "code",
   "execution_count": 2,
   "metadata": {},
   "outputs": [
    {
     "name": "stdout",
     "output_type": "stream",
     "text": [
      "                                                                 \n",
      "q_0: ─■──■──■──■──■─────■─────■─────■────────────────────────────\n",
      "      │  │  │  │  │     │     │     │                            \n",
      "q_1: ─■──■──┼──┼──┼──■──┼──■──┼──■──┼──■──■─────■────────────────\n",
      "            │  │  │  │  │  │  │  │  │  │  │     │                \n",
      "q_2: ───────■──■──┼──■──┼──■──┼──┼──┼──┼──┼──■──┼──■──■──■───────\n",
      "                  │     │     │  │  │  │  │  │  │  │  │  │       \n",
      "q_3: ─────────────■─────■─────┼──■──┼──■──┼──■──┼──■──┼──┼──■──■─\n",
      "                              │     │     │     │     │  │  │  │ \n",
      "q_4: ─────────────────────────■─────■─────■─────■─────■──■──■──■─\n",
      "                                                                 \n"
     ]
    }
   ],
   "source": [
    "num_q = 5\n",
    "cir = QFT(num_q)\n",
    "cir.draw()"
   ]
  },
  {
   "cell_type": "code",
   "execution_count": 3,
   "metadata": {},
   "outputs": [
    {
     "data": {
      "text/plain": [
       "[[],\n",
       " [[0, 1], [0, 1]],\n",
       " [[0, 2], [0, 2]],\n",
       " [[0, 3], [1, 2], [0, 3], [1, 2]],\n",
       " [[0, 4], [1, 3], [0, 4], [1, 3]],\n",
       " [[1, 4], [2, 3], [1, 4], [2, 3]],\n",
       " [[2, 4], [2, 4]],\n",
       " [[3, 4], [3, 4]]]"
      ]
     },
     "execution_count": 3,
     "metadata": {},
     "output_type": "execute_result"
    }
   ],
   "source": [
    "cir.gate_list"
   ]
  },
  {
   "cell_type": "code",
   "execution_count": 4,
   "metadata": {},
   "outputs": [],
   "source": [
    "# # def map(cir) -> list[list[int]]:\n",
    "# maps = []\n",
    "# new_map = [[1,i+1] for i in range(cir.num_qubits)]\n",
    "# for i,gates in enumerate(cir.gate_list):\n",
    "#     if i % 2 == 0:\n",
    "#         for gate in gates:\n",
    "#             new_map[gate[0]],new_map[gate[1]] = new_map[gate[1]],new_map[gate[0]]\n",
    "#     else:\n",
    "#         for gate in gates:\n",
    "#             new_map[gate[0]] = new_map[gate[1]]\n",
    "#     maps.append(new_map)\n",
    "#     new_map = copy.deepcopy(maps[-1])\n",
    "    \n",
    "#     # return maps\n",
    "# gate_list = [[]]\n",
    "# new_maps =[maps[0]]\n",
    "# for i in range(1,len(maps)):\n",
    "#     if maps[i] == maps[i-1]:\n",
    "        "
   ]
  },
  {
   "cell_type": "code",
   "execution_count": 5,
   "metadata": {},
   "outputs": [
    {
     "data": {
      "text/plain": [
       "[[[1, 1], [1, 2], [1, 3], [1, 4], [1, 5]],\n",
       " [[1, 2], [1, 2], [1, 3], [1, 4], [1, 5]],\n",
       " [[1, 3], [1, 2], [1, 3], [1, 4], [1, 5]],\n",
       " [[1, 4], [1, 3], [1, 3], [1, 4], [1, 5]],\n",
       " [[1, 5], [1, 4], [1, 3], [1, 4], [1, 5]],\n",
       " [[1, 6], [1, 5], [1, 4], [1, 4], [1, 5]],\n",
       " [[1, 7], [1, 6], [1, 5], [1, 4], [1, 5]],\n",
       " [[1, 8], [1, 7], [1, 6], [1, 5], [1, 5]]]"
      ]
     },
     "execution_count": 5,
     "metadata": {},
     "output_type": "execute_result"
    }
   ],
   "source": [
    "# def map(cir) -> list[list[int]]:\n",
    "maps = []\n",
    "new_map = [[1,i+1] for i in range(cir.num_qubits)]\n",
    "AOD_qubits = []\n",
    "\n",
    "def update_AOD_qubits(locations, AOD_qubits,dir=[0,1]):\n",
    "    new_loc = copy.deepcopy(locations)\n",
    "    for qubit in AOD_qubits:\n",
    "        new_loc[qubit][0] += dir[0]\n",
    "        new_loc[qubit][1] += dir[1]\n",
    "    return new_loc\n",
    "        \n",
    "maps.append(new_map)\n",
    "for i in range(len(cir.gate_list)-1):\n",
    "    # if i % 2 != 0:\n",
    "    if i%2 == 0:\n",
    "        AOD_qubits.append(i//2)\n",
    "    new_map = update_AOD_qubits(new_map,AOD_qubits)\n",
    "    # else:\n",
    "    #     for qubit in range(cir.num_qubits):\n",
    "    #         new_map[qubit][1] += 1\n",
    "    maps.append(new_map)\n",
    "    new_map = copy.deepcopy(maps[-1])\n",
    "    \n",
    "    # return maps\n",
    "maps"
   ]
  },
  {
   "cell_type": "code",
   "execution_count": 6,
   "metadata": {},
   "outputs": [],
   "source": [
    "from Enola.route import *"
   ]
  },
  {
   "cell_type": "code",
   "execution_count": 7,
   "metadata": {},
   "outputs": [
    {
     "name": "stdout",
     "output_type": "stream",
     "text": [
      "now in 0\n",
      "layers len1\n",
      "now in 1\n",
      "layers len1\n"
     ]
    },
    {
     "name": "stderr",
     "output_type": "stream",
     "text": [
      "/home/gcc/atom/qft/Enola/codegen.py:1331: SyntaxWarning: invalid escape sequence '\\ '\n",
      "  \"\"\"change of convention. In solve() and the SMT model, a/c/r_s govern\n"
     ]
    },
    {
     "ename": "ValueError",
     "evalue": "Init: SLM qubits 0 and 1 xys are the same.",
     "output_type": "error",
     "traceback": [
      "\u001b[0;31m---------------------------------------------------------------------------\u001b[0m",
      "\u001b[0;31mValueError\u001b[0m                                Traceback (most recent call last)",
      "Cell \u001b[0;32mIn[7], line 2\u001b[0m\n\u001b[1;32m      1\u001b[0m route \u001b[38;5;241m=\u001b[39m QuantumRouter(num_q,maps,cir\u001b[38;5;241m.\u001b[39mgate_list,[\u001b[38;5;241m2\u001b[39m,\u001b[38;5;241m2\u001b[39m\u001b[38;5;241m*\u001b[39mnum_q\u001b[38;5;241m+\u001b[39m\u001b[38;5;241m1\u001b[39m])\n\u001b[0;32m----> 2\u001b[0m \u001b[43mroute\u001b[49m\u001b[38;5;241;43m.\u001b[39;49m\u001b[43mrun\u001b[49m\u001b[43m(\u001b[49m\u001b[38;5;124;43mf\u001b[39;49m\u001b[38;5;124;43m\"\u001b[39;49m\u001b[38;5;124;43mqft_\u001b[39;49m\u001b[38;5;132;43;01m{\u001b[39;49;00m\u001b[43mnum_q\u001b[49m\u001b[38;5;132;43;01m}\u001b[39;49;00m\u001b[38;5;124;43m.json\u001b[39;49m\u001b[38;5;124;43m\"\u001b[39;49m\u001b[43m)\u001b[49m\n",
      "File \u001b[0;32m~/atom/qft/Enola/route.py:362\u001b[0m, in \u001b[0;36mQuantumRouter.run\u001b[0;34m(self, filename)\u001b[0m\n\u001b[1;32m    355\u001b[0m \u001b[38;5;250m\u001b[39m\u001b[38;5;124;03m\"\"\"\u001b[39;00m\n\u001b[1;32m    356\u001b[0m \u001b[38;5;124;03mRun the QuantumRouter to initialize, process embeddings, and save the program.\u001b[39;00m\n\u001b[1;32m    357\u001b[0m \u001b[38;5;124;03m\u001b[39;00m\n\u001b[1;32m    358\u001b[0m \u001b[38;5;124;03mParameters:\u001b[39;00m\n\u001b[1;32m    359\u001b[0m \u001b[38;5;124;03mfilename (str): The filename to save the program.\u001b[39;00m\n\u001b[1;32m    360\u001b[0m \u001b[38;5;124;03m\"\"\"\u001b[39;00m\n\u001b[1;32m    361\u001b[0m \u001b[38;5;28mself\u001b[39m\u001b[38;5;241m.\u001b[39minitialize_program()\n\u001b[0;32m--> 362\u001b[0m \u001b[38;5;28;43mself\u001b[39;49m\u001b[38;5;241;43m.\u001b[39;49m\u001b[43mprocess_all_embeddings\u001b[49m\u001b[43m(\u001b[49m\u001b[43m)\u001b[49m\n\u001b[1;32m    363\u001b[0m \u001b[38;5;28mself\u001b[39m\u001b[38;5;241m.\u001b[39msave_program(filename)\n",
      "File \u001b[0;32m~/atom/qft/Enola/route.py:274\u001b[0m, in \u001b[0;36mQuantumRouter.process_all_embeddings\u001b[0;34m(self)\u001b[0m\n\u001b[1;32m    272\u001b[0m \u001b[38;5;28;01mfor\u001b[39;00m current_pos \u001b[38;5;129;01min\u001b[39;00m \u001b[38;5;28mrange\u001b[39m(\u001b[38;5;28mlen\u001b[39m(\u001b[38;5;28mself\u001b[39m\u001b[38;5;241m.\u001b[39membeddings) \u001b[38;5;241m-\u001b[39m \u001b[38;5;241m1\u001b[39m):\n\u001b[1;32m    273\u001b[0m     \u001b[38;5;28mprint\u001b[39m(\u001b[38;5;124mf\u001b[39m\u001b[38;5;124m\"\u001b[39m\u001b[38;5;124mnow in \u001b[39m\u001b[38;5;132;01m{\u001b[39;00mcurrent_pos\u001b[38;5;132;01m}\u001b[39;00m\u001b[38;5;124m\"\u001b[39m)\n\u001b[0;32m--> 274\u001b[0m     movement_program \u001b[38;5;241m=\u001b[39m \u001b[38;5;28;43mself\u001b[39;49m\u001b[38;5;241;43m.\u001b[39;49m\u001b[43mresolve_movements\u001b[49m\u001b[43m(\u001b[49m\u001b[43mcurrent_pos\u001b[49m\u001b[43m)\u001b[49m\n\u001b[1;32m    275\u001b[0m     \u001b[38;5;28mself\u001b[39m\u001b[38;5;241m.\u001b[39mprogram \u001b[38;5;241m+\u001b[39m\u001b[38;5;241m=\u001b[39m movement_program\n",
      "File \u001b[0;32m~/atom/qft/Enola/route.py:294\u001b[0m, in \u001b[0;36mQuantumRouter.resolve_movements\u001b[0;34m(self, current_pos)\u001b[0m\n\u001b[1;32m    292\u001b[0m \u001b[38;5;28mprint\u001b[39m(\u001b[38;5;124mf\u001b[39m\u001b[38;5;124m\"\u001b[39m\u001b[38;5;124mlayers len\u001b[39m\u001b[38;5;132;01m{\u001b[39;00m\u001b[38;5;28mlen\u001b[39m(layers)\u001b[38;5;132;01m}\u001b[39;00m\u001b[38;5;124m\"\u001b[39m)\n\u001b[1;32m    293\u001b[0m layers[\u001b[38;5;28mlen\u001b[39m(layers)\u001b[38;5;241m-\u001b[39m\u001b[38;5;241m1\u001b[39m][\u001b[38;5;124m\"\u001b[39m\u001b[38;5;124mgates\u001b[39m\u001b[38;5;124m\"\u001b[39m] \u001b[38;5;241m=\u001b[39m gates_in_layer(\u001b[38;5;28mself\u001b[39m\u001b[38;5;241m.\u001b[39mgate_list[next_pos])\n\u001b[0;32m--> 294\u001b[0m \u001b[38;5;28;01mreturn\u001b[39;00m \u001b[38;5;28;43mself\u001b[39;49m\u001b[38;5;241;43m.\u001b[39;49m\u001b[43mgenerate_program\u001b[49m\u001b[43m(\u001b[49m\u001b[43mlayers\u001b[49m\u001b[43m)\u001b[49m[\u001b[38;5;241m2\u001b[39m:]\n",
      "File \u001b[0;32m~/atom/qft/Enola/route.py:265\u001b[0m, in \u001b[0;36mQuantumRouter.generate_program\u001b[0;34m(self, layers)\u001b[0m\n\u001b[1;32m    254\u001b[0m data \u001b[38;5;241m=\u001b[39m {\n\u001b[1;32m    255\u001b[0m     \u001b[38;5;124m\"\u001b[39m\u001b[38;5;124mno_transfer\u001b[39m\u001b[38;5;124m\"\u001b[39m: \u001b[38;5;28;01mFalse\u001b[39;00m,\n\u001b[1;32m    256\u001b[0m     \u001b[38;5;124m\"\u001b[39m\u001b[38;5;124mlayers\u001b[39m\u001b[38;5;124m\"\u001b[39m: layers,\n\u001b[0;32m   (...)\u001b[0m\n\u001b[1;32m    262\u001b[0m     \u001b[38;5;124m\"\u001b[39m\u001b[38;5;124mn_c\u001b[39m\u001b[38;5;124m\"\u001b[39m: \u001b[38;5;28mself\u001b[39m\u001b[38;5;241m.\u001b[39march_size[\u001b[38;5;241m1\u001b[39m]\n\u001b[1;32m    263\u001b[0m }\n\u001b[1;32m    264\u001b[0m code_gen \u001b[38;5;241m=\u001b[39m CodeGen(data)\n\u001b[0;32m--> 265\u001b[0m program \u001b[38;5;241m=\u001b[39m \u001b[43mcode_gen\u001b[49m\u001b[38;5;241;43m.\u001b[39;49m\u001b[43mbuilder\u001b[49m\u001b[43m(\u001b[49m\u001b[43mno_transfer\u001b[49m\u001b[38;5;241;43m=\u001b[39;49m\u001b[38;5;28;43;01mFalse\u001b[39;49;00m\u001b[43m)\u001b[49m\n\u001b[1;32m    266\u001b[0m \u001b[38;5;28;01mreturn\u001b[39;00m program\u001b[38;5;241m.\u001b[39memit_full()\n",
      "File \u001b[0;32m~/atom/qft/Enola/codegen.py:1432\u001b[0m, in \u001b[0;36mCodeGen.builder\u001b[0;34m(self, no_transfer)\u001b[0m\n\u001b[1;32m   1428\u001b[0m program \u001b[38;5;241m=\u001b[39m ComboInst(\u001b[38;5;124m'\u001b[39m\u001b[38;5;124mProgram\u001b[39m\u001b[38;5;124m'\u001b[39m)\n\u001b[1;32m   1431\u001b[0m \u001b[38;5;66;03m# read to comment in read_compiled() for structure of this method.\u001b[39;00m\n\u001b[0;32m-> 1432\u001b[0m init \u001b[38;5;241m=\u001b[39m \u001b[38;5;28;43mself\u001b[39;49m\u001b[38;5;241;43m.\u001b[39;49m\u001b[43mbuilder_init\u001b[49m\u001b[43m(\u001b[49m\u001b[43mcols\u001b[49m\u001b[43m,\u001b[49m\u001b[43m \u001b[49m\u001b[43mrows\u001b[49m\u001b[43m,\u001b[49m\u001b[43m \u001b[49m\u001b[43mqubits\u001b[49m\u001b[43m,\u001b[49m\u001b[43m \u001b[49m\u001b[43mprogram\u001b[49m\u001b[43m)\u001b[49m  \u001b[38;5;66;03m# has Rydberg_0\u001b[39;00m\n\u001b[1;32m   1433\u001b[0m \u001b[38;5;66;03m# time_builder_swap = 0\u001b[39;00m\n\u001b[1;32m   1434\u001b[0m time_builder_reload \u001b[38;5;241m=\u001b[39m \u001b[38;5;241m0\u001b[39m\n",
      "File \u001b[0;32m~/atom/qft/Enola/codegen.py:1519\u001b[0m, in \u001b[0;36mCodeGen.builder_init\u001b[0;34m(self, cols, rows, qubits, program)\u001b[0m\n\u001b[1;32m   1516\u001b[0m         \u001b[38;5;28;01melse\u001b[39;00m:\n\u001b[1;32m   1517\u001b[0m             slm_qubit_xys[g[\u001b[38;5;124m'\u001b[39m\u001b[38;5;124mq1\u001b[39m\u001b[38;5;124m'\u001b[39m]] \u001b[38;5;241m=\u001b[39m (x_right, y)\n\u001b[0;32m-> 1519\u001b[0m init \u001b[38;5;241m=\u001b[39m \u001b[43mInit\u001b[49m\u001b[43m(\u001b[49m\u001b[43mcols\u001b[49m\u001b[43m,\u001b[49m\u001b[43m \u001b[49m\u001b[43mrows\u001b[49m\u001b[43m,\u001b[49m\u001b[43m \u001b[49m\u001b[43mqubits\u001b[49m\u001b[43m,\u001b[49m\n\u001b[1;32m   1520\u001b[0m \u001b[43m            \u001b[49m\u001b[43mslm_qubit_idx\u001b[49m\u001b[38;5;241;43m=\u001b[39;49m\u001b[43mslm_qubit_idx\u001b[49m\u001b[43m,\u001b[49m\n\u001b[1;32m   1521\u001b[0m \u001b[43m            \u001b[49m\u001b[43mslm_qubit_xys\u001b[49m\u001b[38;5;241;43m=\u001b[39;49m\u001b[43mslm_qubit_xys\u001b[49m\u001b[43m,\u001b[49m\n\u001b[1;32m   1522\u001b[0m \u001b[43m            \u001b[49m\u001b[43mdata\u001b[49m\u001b[38;5;241;43m=\u001b[39;49m\u001b[43m{\u001b[49m\n\u001b[1;32m   1523\u001b[0m \u001b[43m                \u001b[49m\u001b[38;5;124;43m'\u001b[39;49m\u001b[38;5;124;43mn_q\u001b[39;49m\u001b[38;5;124;43m'\u001b[39;49m\u001b[43m:\u001b[49m\u001b[43m \u001b[49m\u001b[38;5;28;43mself\u001b[39;49m\u001b[38;5;241;43m.\u001b[39;49m\u001b[43mn_q\u001b[49m\u001b[43m,\u001b[49m\n\u001b[1;32m   1524\u001b[0m \u001b[43m                \u001b[49m\u001b[38;5;124;43m'\u001b[39;49m\u001b[38;5;124;43mx_high\u001b[39;49m\u001b[38;5;124;43m'\u001b[39;49m\u001b[43m:\u001b[49m\u001b[43m \u001b[49m\u001b[38;5;28;43mself\u001b[39;49m\u001b[38;5;241;43m.\u001b[39;49m\u001b[43mx_high\u001b[49m\u001b[43m,\u001b[49m\n\u001b[1;32m   1525\u001b[0m \u001b[43m                \u001b[49m\u001b[38;5;124;43m'\u001b[39;49m\u001b[38;5;124;43my_high\u001b[39;49m\u001b[38;5;124;43m'\u001b[39;49m\u001b[43m:\u001b[49m\u001b[43m \u001b[49m\u001b[38;5;28;43mself\u001b[39;49m\u001b[38;5;241;43m.\u001b[39;49m\u001b[43my_high\u001b[49m\u001b[43m,\u001b[49m\n\u001b[1;32m   1526\u001b[0m \u001b[43m                \u001b[49m\u001b[38;5;124;43m'\u001b[39;49m\u001b[38;5;124;43mc_high\u001b[39;49m\u001b[38;5;124;43m'\u001b[39;49m\u001b[43m:\u001b[49m\u001b[43m \u001b[49m\u001b[38;5;28;43mself\u001b[39;49m\u001b[38;5;241;43m.\u001b[39;49m\u001b[43mc_high\u001b[49m\u001b[43m,\u001b[49m\n\u001b[1;32m   1527\u001b[0m \u001b[43m                \u001b[49m\u001b[38;5;124;43m'\u001b[39;49m\u001b[38;5;124;43mr_high\u001b[39;49m\u001b[38;5;124;43m'\u001b[39;49m\u001b[43m:\u001b[49m\u001b[43m \u001b[49m\u001b[38;5;28;43mself\u001b[39;49m\u001b[38;5;241;43m.\u001b[39;49m\u001b[43mr_high\u001b[49m\u001b[43m,\u001b[49m\n\u001b[1;32m   1528\u001b[0m \u001b[43m            \u001b[49m\u001b[43m}\u001b[49m\u001b[43m)\u001b[49m\n\u001b[1;32m   1530\u001b[0m \u001b[38;5;28mself\u001b[39m\u001b[38;5;241m.\u001b[39mbuilder_rydberg(\u001b[38;5;241m0\u001b[39m, cols, rows, qubits, program, init)\n\u001b[1;32m   1532\u001b[0m \u001b[38;5;28;01mreturn\u001b[39;00m init\n",
      "File \u001b[0;32m~/atom/qft/Enola/codegen.py:213\u001b[0m, in \u001b[0;36mInit.__init__\u001b[0;34m(self, col_objs, row_objs, qubit_objs, slm_qubit_idx, slm_qubit_xys, aod_qubit_idx, aod_qubit_crs, aod_col_act_idx, aod_col_xs, aod_row_act_idx, aod_row_ys, data)\u001b[0m\n\u001b[1;32m    211\u001b[0m     \u001b[38;5;28mself\u001b[39m\u001b[38;5;241m.\u001b[39mcode[k] \u001b[38;5;241m=\u001b[39m v\n\u001b[1;32m    212\u001b[0m \u001b[38;5;28mself\u001b[39m\u001b[38;5;241m.\u001b[39mall_slms \u001b[38;5;241m=\u001b[39m []\n\u001b[0;32m--> 213\u001b[0m \u001b[38;5;28;43mself\u001b[39;49m\u001b[38;5;241;43m.\u001b[39;49m\u001b[43mverify\u001b[49m\u001b[43m(\u001b[49m\u001b[43mslm_qubit_idx\u001b[49m\u001b[43m,\u001b[49m\n\u001b[1;32m    214\u001b[0m \u001b[43m            \u001b[49m\u001b[43mslm_qubit_xys\u001b[49m\u001b[43m,\u001b[49m\n\u001b[1;32m    215\u001b[0m \u001b[43m            \u001b[49m\u001b[43maod_qubit_idx\u001b[49m\u001b[43m,\u001b[49m\n\u001b[1;32m    216\u001b[0m \u001b[43m            \u001b[49m\u001b[43maod_qubit_crs\u001b[49m\u001b[43m,\u001b[49m\n\u001b[1;32m    217\u001b[0m \u001b[43m            \u001b[49m\u001b[43maod_col_act_idx\u001b[49m\u001b[43m,\u001b[49m\n\u001b[1;32m    218\u001b[0m \u001b[43m            \u001b[49m\u001b[43maod_col_xs\u001b[49m\u001b[43m,\u001b[49m\n\u001b[1;32m    219\u001b[0m \u001b[43m            \u001b[49m\u001b[43maod_row_act_idx\u001b[49m\u001b[43m,\u001b[49m\n\u001b[1;32m    220\u001b[0m \u001b[43m            \u001b[49m\u001b[43maod_row_ys\u001b[49m\u001b[43m,\u001b[49m\u001b[43m)\u001b[49m\n\u001b[1;32m    221\u001b[0m \u001b[38;5;28mself\u001b[39m\u001b[38;5;241m.\u001b[39moperate(col_objs,\n\u001b[1;32m    222\u001b[0m              row_objs,\n\u001b[1;32m    223\u001b[0m              qubit_objs,\n\u001b[0;32m   (...)\u001b[0m\n\u001b[1;32m    230\u001b[0m              aod_row_act_idx,\n\u001b[1;32m    231\u001b[0m              aod_row_ys,)\n\u001b[1;32m    232\u001b[0m \u001b[38;5;28msuper\u001b[39m()\u001b[38;5;241m.\u001b[39mwrite_code(\n\u001b[1;32m    233\u001b[0m     col_objs,\n\u001b[1;32m    234\u001b[0m     row_objs,\n\u001b[0;32m   (...)\u001b[0m\n\u001b[1;32m    245\u001b[0m         \u001b[38;5;124m'\u001b[39m\u001b[38;5;124maod_row_ys\u001b[39m\u001b[38;5;124m'\u001b[39m: aod_row_ys,\n\u001b[1;32m    246\u001b[0m     })\n",
      "File \u001b[0;32m~/atom/qft/Enola/codegen.py:275\u001b[0m, in \u001b[0;36mInit.verify\u001b[0;34m(self, slm_qubit_idx, slm_qubit_xys, aod_qubit_idx, aod_qubit_crs, aod_col_act_idx, aod_col_xs, aod_row_act_idx, aod_row_ys)\u001b[0m\n\u001b[1;32m    273\u001b[0m \u001b[38;5;28;01mfor\u001b[39;00m j \u001b[38;5;129;01min\u001b[39;00m \u001b[38;5;28mrange\u001b[39m(i\u001b[38;5;241m+\u001b[39m\u001b[38;5;241m1\u001b[39m, \u001b[38;5;28mlen\u001b[39m(slm_qubit_xys)):\n\u001b[1;32m    274\u001b[0m     \u001b[38;5;28;01mif\u001b[39;00m slm_qubit_xys[i] \u001b[38;5;241m==\u001b[39m slm_qubit_xys[j]:\n\u001b[0;32m--> 275\u001b[0m         \u001b[38;5;28;01mraise\u001b[39;00m \u001b[38;5;167;01mValueError\u001b[39;00m(\n\u001b[1;32m    276\u001b[0m             \u001b[38;5;124mf\u001b[39m\u001b[38;5;124m'\u001b[39m\u001b[38;5;132;01m{\u001b[39;00m\u001b[38;5;28mself\u001b[39m\u001b[38;5;241m.\u001b[39mname\u001b[38;5;132;01m}\u001b[39;00m\u001b[38;5;124m: SLM qubits \u001b[39m\u001b[38;5;132;01m{\u001b[39;00mslm_qubit_idx[i]\u001b[38;5;132;01m}\u001b[39;00m\u001b[38;5;124m \u001b[39m\u001b[38;5;124m'\u001b[39m\n\u001b[1;32m    277\u001b[0m             \u001b[38;5;124mf\u001b[39m\u001b[38;5;124m'\u001b[39m\u001b[38;5;124mand \u001b[39m\u001b[38;5;132;01m{\u001b[39;00mslm_qubit_idx[j]\u001b[38;5;132;01m}\u001b[39;00m\u001b[38;5;124m xys are the same.\u001b[39m\u001b[38;5;124m'\u001b[39m\n\u001b[1;32m    278\u001b[0m         )\n",
      "\u001b[0;31mValueError\u001b[0m: Init: SLM qubits 0 and 1 xys are the same."
     ]
    }
   ],
   "source": [
    "route = QuantumRouter(num_q,maps,cir.gate_list,[2,2*num_q+1])\n",
    "route.run(f\"qft_{num_q}.json\")"
   ]
  }
 ],
 "metadata": {
  "kernelspec": {
   "display_name": ".venv",
   "language": "python",
   "name": "python3"
  },
  "language_info": {
   "codemirror_mode": {
    "name": "ipython",
    "version": 3
   },
   "file_extension": ".py",
   "mimetype": "text/x-python",
   "name": "python",
   "nbconvert_exporter": "python",
   "pygments_lexer": "ipython3",
   "version": "3.12.4"
  }
 },
 "nbformat": 4,
 "nbformat_minor": 2
}
