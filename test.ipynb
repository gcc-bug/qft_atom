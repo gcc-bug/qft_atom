{
 "cells": [
  {
   "cell_type": "code",
   "execution_count": 1,
   "metadata": {},
   "outputs": [],
   "source": [
    "from qft import *"
   ]
  },
  {
   "cell_type": "code",
   "execution_count": 2,
   "metadata": {},
   "outputs": [
    {
     "name": "stdout",
     "output_type": "stream",
     "text": [
      "                                                                 \n",
      "q_0: ─■──■──■──■──■─────■─────■─────■────────────────────────────\n",
      "      │  │  │  │  │     │     │     │                            \n",
      "q_1: ─■──■──┼──┼──┼──■──┼──■──┼──■──┼──■──■─────■────────────────\n",
      "            │  │  │  │  │  │  │  │  │  │  │     │                \n",
      "q_2: ───────■──■──┼──■──┼──■──┼──┼──┼──┼──┼──■──┼──■──■──■───────\n",
      "                  │     │     │  │  │  │  │  │  │  │  │  │       \n",
      "q_3: ─────────────■─────■─────┼──■──┼──■──┼──■──┼──■──┼──┼──■──■─\n",
      "                              │     │     │     │     │  │  │  │ \n",
      "q_4: ─────────────────────────■─────■─────■─────■─────■──■──■──■─\n",
      "                                                                 \n"
     ]
    }
   ],
   "source": [
    "num_q = 5\n",
    "cir = QFT(num_q)\n",
    "cir.draw()"
   ]
  },
  {
   "cell_type": "code",
   "execution_count": 3,
   "metadata": {},
   "outputs": [
    {
     "name": "stdout",
     "output_type": "stream",
     "text": [
      "20\n"
     ]
    },
    {
     "data": {
      "text/plain": [
       "[[],\n",
       " [[0, 1], [0, 1]],\n",
       " [[0, 2], [0, 2]],\n",
       " [[0, 3], [1, 2], [0, 3], [1, 2]],\n",
       " [[0, 4], [1, 3], [0, 4], [1, 3]],\n",
       " [[1, 4], [2, 3], [1, 4], [2, 3]],\n",
       " [[2, 4], [2, 4]],\n",
       " [[3, 4], [3, 4]]]"
      ]
     },
     "execution_count": 3,
     "metadata": {},
     "output_type": "execute_result"
    }
   ],
   "source": [
    "print(cir.num_gate)\n",
    "cir.gate_list"
   ]
  },
  {
   "cell_type": "code",
   "execution_count": 4,
   "metadata": {},
   "outputs": [],
   "source": [
    "import math\n",
    "def set_parameters(default):\n",
    "\tpara = {}\n",
    "\tif default:\n",
    "\t\tpara['T_cz'] = 0.2  #us\n",
    "\t\tpara['T_eff'] = 1.5e6 #us\n",
    "\t\tpara['T_trans'] = 20 # us\n",
    "\t\tpara['AOD_width'] = 3 #um\n",
    "\t\tpara['AOD_height'] = 3 #um\n",
    "\t\tpara['Move_speed'] = 0.55 #um/us\n",
    "\t\tpara['F_cz'] = 0.995\n",
    "\n",
    "\treturn para\n",
    "def compute_fidelity(parallel_gates, all_movements, num_q, gate_num):\n",
    "\tpara = set_parameters(True)\n",
    "\tt_total = 0\n",
    "\tt_total += (len(parallel_gates) * para['T_cz']) # cz execution time, parallel\n",
    "\tt_move = 0\n",
    "\tfor move in all_movements:\n",
    "\t\tt_total += (4 * para['T_trans']) # pick/drop/pick/drop\n",
    "\t\tt_move += (4 * para['T_trans'])\n",
    "\t\tmax_dis = 0\n",
    "\t\tfor each_move in move:\n",
    "\t\t\tx1, y1 = each_move[1][0],each_move[1][1]\n",
    "\t\t\tx2, y2 = each_move[2][0],each_move[2][1]\n",
    "\t\t\tdis = (abs(x2-x1)*para['AOD_width'])**2 + (abs(y2-y1)*para['AOD_height'])**2\n",
    "\t\t\tif dis > max_dis:\n",
    "\t\t\t\tmax_dis = dis\n",
    "\t\tmax_dis = math.sqrt(max_dis)\n",
    "\t\tt_total += (max_dis/para['Move_speed'])\n",
    "\t\tt_move += (max_dis/para['Move_speed'])\n",
    "\n",
    "\tt_idle = num_q * t_total - gate_num * para['T_cz']\n",
    "\tFidelity = math.exp(-t_idle/para['T_eff']) * (para['F_cz']**gate_num)\n",
    "\tmove_fidelity = math.exp(-t_move/para['T_eff'])\n",
    "\treturn t_idle, Fidelity, move_fidelity"
   ]
  },
  {
   "cell_type": "code",
   "execution_count": 5,
   "metadata": {},
   "outputs": [
    {
     "data": {
      "text/plain": [
       "[[[1, 1], [1, 2], [1, 3], [1, 4], [1, 5]],\n",
       " [[1, 2], [1, 2], [1, 3], [1, 4], [1, 5]],\n",
       " [[1, 3], [1, 2], [1, 3], [1, 4], [1, 5]],\n",
       " [[1, 4], [1, 3], [1, 3], [1, 4], [1, 5]],\n",
       " [[1, 5], [1, 4], [1, 3], [1, 4], [1, 5]],\n",
       " [[1, 6], [1, 5], [1, 4], [1, 4], [1, 5]],\n",
       " [[1, 7], [1, 6], [1, 5], [1, 4], [1, 5]],\n",
       " [[1, 8], [1, 7], [1, 6], [1, 5], [1, 5]]]"
      ]
     },
     "execution_count": 5,
     "metadata": {},
     "output_type": "execute_result"
    }
   ],
   "source": [
    "def get_maps(cir) -> list[list[int]]:\n",
    "    maps = []\n",
    "    new_map = [[1,i+1] for i in range(cir.num_qubits)]\n",
    "    AOD_qubits = []\n",
    "\n",
    "    def update_AOD_qubits(locations, AOD_qubits,dir=[0,1]):\n",
    "        new_loc = copy.deepcopy(locations)\n",
    "        for qubit in AOD_qubits:\n",
    "            new_loc[qubit][0] += dir[0]\n",
    "            new_loc[qubit][1] += dir[1]\n",
    "        return new_loc\n",
    "            \n",
    "    maps.append(new_map)\n",
    "    for i in range(len(cir.gate_list)-1):\n",
    "        # if i % 2 != 0:\n",
    "        if i%2 == 0:\n",
    "            AOD_qubits.append(i//2)\n",
    "        new_map = update_AOD_qubits(new_map,AOD_qubits)\n",
    "        # else:\n",
    "        #     for qubit in range(cir.num_qubits):\n",
    "        #         new_map[qubit][1] += 1\n",
    "        maps.append(new_map)\n",
    "        new_map = copy.deepcopy(maps[-1])\n",
    "        \n",
    "    return maps\n",
    "maps = get_maps(cir)\n",
    "maps"
   ]
  },
  {
   "cell_type": "code",
   "execution_count": 6,
   "metadata": {},
   "outputs": [],
   "source": [
    "from Enola.route import *"
   ]
  },
  {
   "cell_type": "code",
   "execution_count": 7,
   "metadata": {},
   "outputs": [],
   "source": [
    "route = QuantumRouter(num_q,maps,cir.gate_list,[2,2*num_q+1])\n",
    "route.run()"
   ]
  },
  {
   "cell_type": "code",
   "execution_count": 8,
   "metadata": {},
   "outputs": [
    {
     "name": "stdout",
     "output_type": "stream",
     "text": [
      "['Fidelity:', 0.9028061313935791]\n",
      "['t_idle:', 2994.9090909090914]\n",
      "['move_fidelity', 0.9996012916265293]\n",
      "['Movement times', 7]\n",
      "['parallel times', 8]\n"
     ]
    }
   ],
   "source": [
    "total_paralled = cir.gate_list\n",
    "all_movements = []\n",
    "for num in range(len(maps) - 1):\n",
    "    for paral_moves in route.movement_list[num]:\n",
    "        all_movements.append(paral_moves)\n",
    "gate_num = cir.num_gate\n",
    "t_idle, Fidelity, move_fidelity = compute_fidelity(total_paralled, all_movements, num_q, gate_num)\n",
    "print([\"Fidelity:\", Fidelity])\n",
    "print([\"t_idle:\", t_idle])\n",
    "print([\"move_fidelity\", move_fidelity])\n",
    "print([\"Movement times\", len(all_movements)])\n",
    "print([\"parallel times\", len(total_paralled)])"
   ]
  },
  {
   "cell_type": "code",
   "execution_count": 9,
   "metadata": {},
   "outputs": [
    {
     "name": "stdout",
     "output_type": "stream",
     "text": [
      "QFT_5's Fidelity is: 0.9028061313935791\n",
      "QFT_6's Fidelity is: 0.8581790161406537\n",
      "QFT_7's Fidelity is: 0.8076209192278608\n",
      "QFT_8's Fidelity is: 0.7524601511165168\n",
      "QFT_9's Fidelity is: 0.6940739241259597\n",
      "QFT_10's Fidelity is: 0.6338320985768271\n",
      "QFT_11's Fidelity is: 0.5730453683826469\n",
      "QFT_12's Fidelity is: 0.5129205056546817\n",
      "QFT_13's Fidelity is: 0.4545246008146743\n",
      "QFT_14's Fidelity is: 0.3987594641286062\n",
      "QFT_15's Fidelity is: 0.34634656970135114\n"
     ]
    }
   ],
   "source": [
    "for n in range(5,16):\n",
    "    cir = QFT(n)\n",
    "    maps = get_maps(cir)\n",
    "    route = QuantumRouter(cir.num_qubits,maps,cir.gate_list,[2,2*num_q+1])\n",
    "    route.run()\n",
    "    total_paralled = cir.gate_list\n",
    "    all_movements = []\n",
    "    for num in range(len(maps) - 1):\n",
    "        for paral_moves in route.movement_list[num]:\n",
    "            all_movements.append(paral_moves)\n",
    "    gate_num = cir.num_gate\n",
    "    t_idle, Fidelity, move_fidelity = compute_fidelity(total_paralled, all_movements, num_q, gate_num)\n",
    "    print(f\"QFT_{n}'s Fidelity is: {Fidelity}\", )"
   ]
  }
 ],
 "metadata": {
  "kernelspec": {
   "display_name": ".venv",
   "language": "python",
   "name": "python3"
  },
  "language_info": {
   "codemirror_mode": {
    "name": "ipython",
    "version": 3
   },
   "file_extension": ".py",
   "mimetype": "text/x-python",
   "name": "python",
   "nbconvert_exporter": "python",
   "pygments_lexer": "ipython3",
   "version": "3.12.2"
  }
 },
 "nbformat": 4,
 "nbformat_minor": 2
}
