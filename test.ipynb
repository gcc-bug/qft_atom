{
 "cells": [
  {
   "cell_type": "code",
   "execution_count": 1,
   "metadata": {},
   "outputs": [],
   "source": [
    "from qft import *\n",
    "from qiskit import qasm2\n",
    "import pandas as pd"
   ]
  },
  {
   "cell_type": "code",
   "execution_count": null,
   "metadata": {},
   "outputs": [],
   "source": [
    "num_q = 20\n",
    "cir = QFT(num_q)\n",
    "cir.draw()"
   ]
  },
  {
   "cell_type": "code",
   "execution_count": 3,
   "metadata": {},
   "outputs": [],
   "source": [
    "def move_time(distance):\n",
    "    return 200*((distance/110)**(1/2))"
   ]
  },
  {
   "cell_type": "code",
   "execution_count": 4,
   "metadata": {},
   "outputs": [],
   "source": [
    "import math\n",
    "def set_parameters(default):\n",
    "    para = {}\n",
    "    if default:\n",
    "        para['T_cz'] = 0.2  #us\n",
    "        para['T_eff'] = 1.5e6 #us\n",
    "        para['T_trans'] = 20 # us\n",
    "        para['AOD_width'] = 3 #um\n",
    "        para['AOD_height'] = 3 #um\n",
    "        para['Move_speed'] = 0.55 #um/us\n",
    "        para['F_cz'] = 0.995\n",
    "        para['F_transfer'] = 0.999\n",
    "        para['F_cz_idle'] = 1 - (1-para['F_cz'])/2\n",
    "        para['R_b'] = 6 #um\n",
    "\n",
    "    return para\n",
    "def DasAtom_fidelity(parallel_gates, all_movements, num_q, gate_num):\n",
    "    para = set_parameters(True)\n",
    "    t_total = 0\n",
    "    t_total += (len(parallel_gates) * para['T_cz']) # cz execution time, parallel\n",
    "    t_move = 0\n",
    "    for move in all_movements:\n",
    "        t_total += (4 * para['T_trans']) # pick/drop/pick/drop\n",
    "        t_move += (4 * para['T_trans'])\n",
    "        max_dis = 0\n",
    "        for each_move in move:\n",
    "            x1, y1 = each_move[1][0],each_move[1][1]\n",
    "            x2, y2 = each_move[2][0],each_move[2][1]\n",
    "            dis = (abs(x2-x1)*para['AOD_width'])**2 + (abs(y2-y1)*para['AOD_height'])**2\n",
    "            if dis > max_dis:\n",
    "                max_dis = dis\n",
    "        max_dis = math.sqrt(max_dis)\n",
    "        t_total += (max_dis/para['Move_speed'])\n",
    "        t_move += (max_dis/para['Move_speed'])\n",
    "\n",
    "    t_idle = num_q * t_total - gate_num * para['T_cz']\n",
    "    Fidelity = math.exp(-t_idle/para['T_eff']) * (para['F_cz']**gate_num)\n",
    "    move_fidelity = math.exp(-t_move/para['T_eff'])\n",
    "    return t_idle, Fidelity, move_fidelity\n",
    "\n",
    "def Enola_fidelity(parallel_gates, all_movements, num_q, gate_num):\n",
    "    para = set_parameters(True)\n",
    "    cir_fidelity_1q_gate = 1\n",
    "    cir_fidelity_2q_gate = 1\n",
    "    cir_fidelity_2q_gate_for_idle = 1\n",
    "    cir_fidelity_atom_transfer = 1\n",
    "    cir_fidelity_coherence = 1\n",
    "    cir_qubit_idle_time = [0 for _ in range(num_q)]\n",
    "\n",
    "    # num_gate = sum([len(gates) for gates in parallel_gates])\n",
    "    cir_fidelity_2q_gate = para['F_cz'] ** gate_num\n",
    "    cir_fidelity_2q_gate_for_idle = para['F_cz_idle'] ** (2*(len(parallel_gates)-1)*num_q - 2*gate_num)\n",
    "\n",
    "    for movements in all_movements:\n",
    "        for mov in movements:\n",
    "            q = mov[0]\n",
    "            cir_qubit_idle_time[q] += 4*para['T_trans']\n",
    "        cir_fidelity_atom_transfer *= para['F_transfer']**(4*len(mov))\n",
    "        # TODO: only for d = 1\n",
    "        for i in range(num_q):\n",
    "            cir_qubit_idle_time[i] += move_time(para['R_b'])\n",
    "    for t in cir_qubit_idle_time:\n",
    "            cir_fidelity_coherence *= (1 - t/para[\"T_eff\"])\n",
    "    res = {\"cir_fidelity_1q_gate\":cir_fidelity_1q_gate,\n",
    "            \"cir_fidelity_2q_gate\": cir_fidelity_2q_gate,\n",
    "            \"cir_fidelity_2q_gate_for_idle\":cir_fidelity_2q_gate_for_idle,\n",
    "            \"cir_fidelity_atom_transfer\":cir_fidelity_atom_transfer,\n",
    "            \"cir_fidelity_coherence\":cir_fidelity_coherence,}\n",
    "    cir_fidelity = cir_fidelity_1q_gate * cir_fidelity_2q_gate * cir_fidelity_2q_gate_for_idle \\\n",
    "        * cir_fidelity_atom_transfer * cir_fidelity_coherence\n",
    "    res[\"cir_fidelity\"] = cir_fidelity\n",
    "    return res\n"
   ]
  },
  {
   "cell_type": "code",
   "execution_count": null,
   "metadata": {},
   "outputs": [],
   "source": [
    "cir.gate_list"
   ]
  },
  {
   "cell_type": "code",
   "execution_count": null,
   "metadata": {},
   "outputs": [],
   "source": [
    "maps = cir.LNN_maps()\n",
    "maps"
   ]
  },
  {
   "cell_type": "code",
   "execution_count": 2,
   "metadata": {},
   "outputs": [],
   "source": [
    "from Enola.route import *"
   ]
  },
  {
   "cell_type": "code",
   "execution_count": 8,
   "metadata": {},
   "outputs": [],
   "source": [
    "route = QuantumRouter(num_q,maps,cir.gate_list,[16,16],\"others\")\n",
    "route.run()"
   ]
  },
  {
   "cell_type": "code",
   "execution_count": null,
   "metadata": {},
   "outputs": [],
   "source": [
    "route.movement_list"
   ]
  },
  {
   "cell_type": "code",
   "execution_count": 10,
   "metadata": {},
   "outputs": [],
   "source": [
    "route.save_program(\"test_code_full.json\")"
   ]
  },
  {
   "cell_type": "code",
   "execution_count": 3,
   "metadata": {},
   "outputs": [
    {
     "name": "stdout",
     "output_type": "stream",
     "text": [
      "5\n",
      "6\n",
      "7\n",
      "8\n",
      "9\n",
      "10\n",
      "11\n",
      "12\n",
      "13\n",
      "14\n",
      "15\n",
      "16\n",
      "17\n",
      "18\n",
      "19\n",
      "20\n",
      "21\n",
      "22\n",
      "23\n",
      "24\n",
      "25\n",
      "26\n",
      "27\n",
      "28\n",
      "29\n",
      "30\n",
      "31\n",
      "32\n",
      "33\n",
      "34\n",
      "35\n",
      "36\n",
      "37\n",
      "38\n",
      "39\n",
      "40\n",
      "41\n",
      "42\n",
      "43\n",
      "44\n",
      "45\n",
      "46\n",
      "47\n",
      "48\n",
      "49\n",
      "50\n"
     ]
    }
   ],
   "source": [
    "data_list = []\n",
    "for n in range(5,51):\n",
    "    cir = QFT(n)\n",
    "    print(n)\n",
    "    maps = cir.LNN_maps()\n",
    "    route = QuantumRouter(cir.num_qubits,maps,cir.gate_list, [16,16],\"others\")\n",
    "    route.run()\n",
    "    route.save_program(f\"fold_map/qft_{n}_full_code.json\")\n",
    "    # total_paralled = cir.gate_list\n",
    "    # all_movements = []\n",
    "    # for num in range(len(maps) - 1):\n",
    "    #     for paral_moves in route.movement_list[num]:\n",
    "    #         all_movements.append(paral_moves)\n",
    "    # gate_num = cir.num_gate\n",
    "    # # t_idle, Fidelity, move_fidelity = DasAtom_fidelity(total_paralled, all_movements, n, gate_num)\n",
    "    # # data = {\"bench file\": f\"qft_{n}.qasm\",\n",
    "    # #         \"cir fidelity\": Fidelity,\n",
    "    # #         \"idle time\": t_idle,\n",
    "    # #         \"move fidelity\": move_fidelity}\n",
    "    # data = Enola_fidelity(total_paralled, all_movements, n, gate_num)\n",
    "    # data_list.append(data)"
   ]
  }
 ],
 "metadata": {
  "kernelspec": {
   "display_name": "base",
   "language": "python",
   "name": "python3"
  },
  "language_info": {
   "codemirror_mode": {
    "name": "ipython",
    "version": 3
   },
   "file_extension": ".py",
   "mimetype": "text/x-python",
   "name": "python",
   "nbconvert_exporter": "python",
   "pygments_lexer": "ipython3",
   "version": "3.12.2"
  }
 },
 "nbformat": 4,
 "nbformat_minor": 2
}
