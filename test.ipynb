{
 "cells": [
  {
   "cell_type": "code",
   "execution_count": 1,
   "metadata": {},
   "outputs": [],
   "source": [
    "\n",
    "def cycle_zigzag_folding(n: int) -> list[tuple[int, int]]:\n",
    "    def get_main_direction(step_index: int) -> str:\n",
    "        directions = ['r', 'd', 'l', 'u']  # right, down, left, up\n",
    "        return directions[step_index % 4]\n",
    "\n",
    "    def get_burst_directions(direction: str) -> list[str]:\n",
    "        if direction == 'r':\n",
    "            return ['u', 'd']\n",
    "        elif direction == 'l':\n",
    "            return ['d', 'u']\n",
    "        elif direction == 'd':\n",
    "            return ['r', 'l']\n",
    "        elif direction == 'u':\n",
    "            return ['l', 'r']\n",
    "        return []\n",
    "\n",
    "    def move(x: int, y: int, direction: str) -> tuple[int, int]:\n",
    "        if direction == 'r':\n",
    "            return x + 1, y\n",
    "        elif direction == 'l':\n",
    "            return x - 1, y\n",
    "        elif direction == 'u':\n",
    "            return x, y + 1\n",
    "        elif direction == 'd':\n",
    "            return x, y - 1\n",
    "        return x, y\n",
    "\n",
    "    # Initialize variables\n",
    "    x, y = 0, 0\n",
    "    path = [(x, y)]\n",
    "    step_index = 0\n",
    "    main_dir_width = 2\n",
    "    continuous_main_steps = 0\n",
    "    main_direction = get_main_direction(step_index)\n",
    "\n",
    "    if n > 1:\n",
    "        burst_counter = 0\n",
    "        use_burst_direction = False\n",
    "        x, y = move(x, y, 'd')\n",
    "        path.append((x, y))\n",
    "\n",
    "    for i in range(1, n - 1):\n",
    "        if use_burst_direction:\n",
    "            burst_directions = get_burst_directions(main_direction)\n",
    "            burst_direction = burst_directions[burst_counter % 2]  # Alternate burst direction\n",
    "            x, y = move(x, y, burst_direction)\n",
    "            burst_counter += 1\n",
    "        else:\n",
    "            x, y = move(x, y, main_direction)\n",
    "            continuous_main_steps += 1\n",
    "\n",
    "        if (x, y) in path:\n",
    "            print(f\"Bug detected at step {i}: position {(x, y)} already in path.\")\n",
    "        path.append((x, y))\n",
    "        use_burst_direction = not use_burst_direction\n",
    "\n",
    "        # Adjust main direction and width after completing current main segment\n",
    "        if continuous_main_steps >= main_dir_width:\n",
    "            step_index += 1\n",
    "            continuous_main_steps = 0\n",
    "            burst_counter = 0\n",
    "            main_direction = get_main_direction(step_index)\n",
    "            use_burst_direction = not use_burst_direction\n",
    "            if step_index % 2 == 0:\n",
    "                main_dir_width += 2\n",
    "\n",
    "    # Normalize coordinates to start from (0, 0)\n",
    "    x_min = min(px for px, _ in path)\n",
    "    y_min = min(py for _, py in path)\n",
    "    normalized_path = [(px - x_min, py - y_min) for px, py in path]\n",
    "\n",
    "    return normalized_path"
   ]
  },
  {
   "cell_type": "code",
   "execution_count": 2,
   "metadata": {},
   "outputs": [],
   "source": [
    "def tikz_draw_zigzag(n: int) -> str:\n",
    "    \"\"\"\n",
    "    Uses cycle_zigzag_folding(n) to create a TikZ line from \n",
    "    the returned coordinates.  Returns a string of TikZ commands.\n",
    "    \"\"\"\n",
    "    coords = cycle_zigzag_folding(n)\n",
    "    \n",
    "    # Build the path:  (x1,y1) -- (x2,y2) -- ... -- (xk,yk)\n",
    "    path = \" -- \".join(f\"({x},{y})\" for (x,y) in coords)\n",
    "    \n",
    "    # Return something like:  \\draw (x1,y1) -- (x2,y2) -- ... -- (xk,yk);\n",
    "    return f\"\\\\draw {path};\""
   ]
  },
  {
   "cell_type": "code",
   "execution_count": 3,
   "metadata": {},
   "outputs": [
    {
     "data": {
      "text/plain": [
       "'\\\\draw (4,5) -- (4,4) -- (5,4) -- (5,5) -- (6,5) -- (6,4) -- (7,4) -- (7,3) -- (6,3) -- (6,2) -- (5,2) -- (5,3) -- (4,3) -- (4,2) -- (3,2) -- (3,3) -- (2,3) -- (2,4) -- (3,4) -- (3,5) -- (2,5) -- (2,6) -- (3,6) -- (3,7) -- (4,7) -- (4,6) -- (5,6) -- (5,7) -- (6,7) -- (6,6) -- (7,6) -- (7,7) -- (8,7) -- (8,6) -- (9,6) -- (9,5) -- (8,5) -- (8,4) -- (9,4) -- (9,3) -- (8,3) -- (8,2) -- (9,2) -- (9,1) -- (8,1) -- (8,0) -- (7,0) -- (7,1) -- (6,1) -- (6,0) -- (5,0) -- (5,1) -- (4,1) -- (4,0) -- (3,0) -- (3,1) -- (2,1) -- (2,0) -- (1,0) -- (1,1) -- (0,1) -- (0,2) -- (1,2) -- (1,3) -- (0,3) -- (0,4) -- (1,4) -- (1,5) -- (0,5) -- (0,6) -- (1,6) -- (1,7) -- (0,7) -- (0,8) -- (1,8) -- (1,9) -- (2,9) -- (2,8) -- (3,8) -- (3,9) -- (4,9) -- (4,8) -- (5,8) -- (5,9) -- (6,9) -- (6,8) -- (7,8) -- (7,9) -- (8,9) -- (8,8) -- (9,8) -- (9,9);'"
      ]
     },
     "execution_count": 3,
     "metadata": {},
     "output_type": "execute_result"
    }
   ],
   "source": [
    "tikz_draw_zigzag(92)"
   ]
  }
 ],
 "metadata": {
  "kernelspec": {
   "display_name": "base",
   "language": "python",
   "name": "python3"
  },
  "language_info": {
   "codemirror_mode": {
    "name": "ipython",
    "version": 3
   },
   "file_extension": ".py",
   "mimetype": "text/x-python",
   "name": "python",
   "nbconvert_exporter": "python",
   "pygments_lexer": "ipython3",
   "version": "3.12.2"
  }
 },
 "nbformat": 4,
 "nbformat_minor": 2
}
