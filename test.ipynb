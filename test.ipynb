{
 "cells": [
  {
   "cell_type": "code",
   "execution_count": 1,
   "metadata": {},
   "outputs": [],
   "source": [
    "from qft import *\n",
    "from qiskit import qasm2\n",
    "import pandas as pd"
   ]
  },
  {
   "cell_type": "code",
   "execution_count": null,
   "metadata": {},
   "outputs": [],
   "source": [
    "num_q = 20\n",
    "cir = QFT(num_q)\n",
    "cir.draw()"
   ]
  },
  {
   "cell_type": "code",
   "execution_count": null,
   "metadata": {},
   "outputs": [],
   "source": [
    "cir.gate_list"
   ]
  },
  {
   "cell_type": "code",
   "execution_count": null,
   "metadata": {},
   "outputs": [],
   "source": [
    "maps = cir.LNN_maps()\n",
    "maps"
   ]
  },
  {
   "cell_type": "code",
   "execution_count": 5,
   "metadata": {},
   "outputs": [],
   "source": [
    "from Enola.route import *"
   ]
  },
  {
   "cell_type": "code",
   "execution_count": 6,
   "metadata": {},
   "outputs": [],
   "source": [
    "route = QuantumRouter(num_q,maps,cir.gate_list,[16,16],\"others\")\n",
    "route.run()"
   ]
  },
  {
   "cell_type": "code",
   "execution_count": null,
   "metadata": {},
   "outputs": [],
   "source": [
    "route.movement_list"
   ]
  },
  {
   "cell_type": "code",
   "execution_count": null,
   "metadata": {},
   "outputs": [],
   "source": [
    "route.save_program(\"test_code_full.json\")"
   ]
  },
  {
   "cell_type": "code",
   "execution_count": 9,
   "metadata": {},
   "outputs": [
    {
     "name": "stdout",
     "output_type": "stream",
     "text": [
      "5\n",
      "6\n",
      "7\n",
      "8\n",
      "9\n",
      "10\n",
      "11\n",
      "12\n",
      "13\n",
      "14\n",
      "15\n",
      "16\n",
      "17\n",
      "18\n",
      "19\n",
      "20\n",
      "21\n",
      "22\n",
      "23\n",
      "24\n",
      "25\n",
      "26\n",
      "27\n",
      "28\n",
      "29\n",
      "30\n",
      "31\n",
      "32\n",
      "33\n",
      "34\n",
      "35\n",
      "36\n",
      "37\n",
      "38\n",
      "39\n",
      "40\n",
      "41\n",
      "42\n",
      "43\n",
      "44\n",
      "45\n",
      "46\n",
      "47\n",
      "48\n",
      "49\n",
      "50\n"
     ]
    }
   ],
   "source": [
    "data_list = []\n",
    "for n in range(5,51):\n",
    "    cir = QFT(n)\n",
    "    print(n)\n",
    "    maps = cir.LNN_maps(-1)\n",
    "    route = QuantumRouter(cir.num_qubits,maps,cir.gate_list, [cir.num_qubits+2,3],\"others\")\n",
    "    route.run()\n",
    "    route.save_program(f\"linear_map/qft_{n}_full_code.json\")\n",
    "    # total_paralled = cir.gate_list\n",
    "    # all_movements = []\n",
    "    # for num in range(len(maps) - 1):\n",
    "    #     for paral_moves in route.movement_list[num]:\n",
    "    #         all_movements.append(paral_moves)\n",
    "    # gate_num = cir.num_gate\n",
    "    # # t_idle, Fidelity, move_fidelity = DasAtom_fidelity(total_paralled, all_movements, n, gate_num)\n",
    "    # # data = {\"bench file\": f\"qft_{n}.qasm\",\n",
    "    # #         \"cir fidelity\": Fidelity,\n",
    "    # #         \"idle time\": t_idle,\n",
    "    # #         \"move fidelity\": move_fidelity}\n",
    "    # data = Enola_fidelity(total_paralled, all_movements, n, gate_num)\n",
    "    # data_list.append(data)"
   ]
  }
 ],
 "metadata": {
  "kernelspec": {
   "display_name": ".venv",
   "language": "python",
   "name": "python3"
  },
  "language_info": {
   "codemirror_mode": {
    "name": "ipython",
    "version": 3
   },
   "file_extension": ".py",
   "mimetype": "text/x-python",
   "name": "python",
   "nbconvert_exporter": "python",
   "pygments_lexer": "ipython3",
   "version": "3.10.12"
  }
 },
 "nbformat": 4,
 "nbformat_minor": 2
}
