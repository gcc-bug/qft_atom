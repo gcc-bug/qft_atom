{
 "cells": [
  {
   "cell_type": "code",
   "execution_count": 1,
   "metadata": {},
   "outputs": [],
   "source": [
    "from Enola.route import *\n",
    "import math"
   ]
  },
  {
   "cell_type": "code",
   "execution_count": 2,
   "metadata": {},
   "outputs": [],
   "source": [
    "import rustworkx as rx\n",
    "import networkx as nx\n",
    "import matplotlib.pyplot as plt\n",
    "\n",
    "def draw_undirected_graph(edge_list):\n",
    "    # Add nodes based on the unique nodes in the edge list\n",
    "    nodes = set([node for edge in edge_list for node in edge])\n",
    "    # Convert rustworkx graph to NetworkX graph for visualization\n",
    "    nx_graph = nx.Graph()\n",
    "    for node in nodes:\n",
    "        nx_graph.add_node(node)\n",
    "    for edge in edge_list:\n",
    "        nx_graph.add_edge(edge[0], edge[1])\n",
    "    \n",
    "    # Draw the NetworkX graph\n",
    "    plt.figure(figsize=(8, 8))\n",
    "    # pos = nx.spring_layout(nx_graph)\n",
    "    # pos = nx.shell_layout(nx_graph)\n",
    "    # pos = nx.spectral_layout(nx_graph)\n",
    "    pos = nx.circular_layout(nx_graph)\n",
    "    nx.draw(nx_graph, pos, with_labels=True, node_size=500, font_size=12, font_weight='bold', edge_color='gray', node_color='lightblue')\n",
    "    \n",
    "    # Show the plot\n",
    "    plt.show()"
   ]
  },
  {
   "cell_type": "code",
   "execution_count": 3,
   "metadata": {},
   "outputs": [],
   "source": [
    "movements={0: (9, 3, 8, 3), 1: (8, 2, 9, 2), 2: (7, 1, 8, 1), 3: (6, 2, 7, 2), 4: (5, 1, 6, 1), 5: (4, 2, 5, 2), 6: (3, 1, 4, 1), 7: (2, 2, 3, 2), 8: (1, 1, 2, 1), 9: (2, 1, 1, 1), 10: (3, 2, 2, 2), 11: (4, 1, 3, 1), 12: (5, 2, 4, 2), 13: (6, 1, 5, 1), 14: (7, 2, 6, 2), 15: (8, 1, 7, 1), 16: (9, 2, 8, 2), 17: (8, 3, 9, 3)}\n",
    "violations=[(0, 1), (0, 2), (0, 17), (1, 15), (1, 16), (2, 14), (2, 15), (2, 16), (3, 13), (3, 14), (3, 15), (4, 12), (4, 13), (4, 14), (5, 11), (5, 12), (5, 13), (6, 10), (6, 11), (6, 12), (7, 9), (7, 10), (7, 11), (8, 9), (8, 10), (15, 17), (16, 17)]\n",
    "gates=[[8, 9], [7, 10], [6, 11], [5, 12], [4, 13], [3, 14], [2, 15], [1, 16], [0, 17]]"
   ]
  },
  {
   "cell_type": "code",
   "execution_count": 4,
   "metadata": {},
   "outputs": [
    {
     "data": {
      "text/plain": [
       "[0, 1, 2, 3, 4, 5, 6, 7, 8, 9, 10, 11, 12, 13, 14, 15, 16, 17]"
      ]
     },
     "execution_count": 4,
     "metadata": {},
     "output_type": "execute_result"
    }
   ],
   "source": [
    "sorted_movements = sorted(movements.keys(), key=lambda k: math.dist(movements[k][:2], movements[k][2:]))\n",
    "sorted_movements"
   ]
  },
  {
   "cell_type": "code",
   "execution_count": 5,
   "metadata": {},
   "outputs": [
    {
     "name": "stdout",
     "output_type": "stream",
     "text": [
      "solution:[0, 3, 4, 5, 6, 7, 8, 16], left 1\n"
     ]
    }
   ],
   "source": [
    "solution = maximalis_solve_sort(20, violations, sorted_movements)\n",
    "print(f\"solution:{solution}, left {(len(gates)-len(solution))}\")"
   ]
  },
  {
   "cell_type": "code",
   "execution_count": 6,
   "metadata": {},
   "outputs": [
    {
     "name": "stdout",
     "output_type": "stream",
     "text": [
      "solution:[12, 16, 11, 0, 9, 15, 13, 14, 10], left 0\n"
     ]
    }
   ],
   "source": [
    "solution = maximalis_solve(sorted_movements,violations)\n",
    "print(f\"solution:{solution}, left {(len(gates)-len(solution))}\")"
   ]
  },
  {
   "cell_type": "markdown",
   "metadata": {},
   "source": [
    "a better set is:[0, 9, 10, 11, 12, 13, 14, 15, 16]"
   ]
  },
  {
   "cell_type": "code",
   "execution_count": 7,
   "metadata": {},
   "outputs": [
    {
     "data": {
      "text/plain": [
       "[0, 9, 10, 11, 12, 13, 14, 15, 16, 1, 2, 3, 4, 5, 6, 7, 8, 17]"
      ]
     },
     "execution_count": 7,
     "metadata": {},
     "output_type": "execute_result"
    }
   ],
   "source": [
    "sorted_movements = sorted(\n",
    "    movements.keys(),\n",
    "    key=lambda k: ((movements[k][2] - movements[k][0], movements[k][3] - movements[k][1]),  # Direction vector (Δx, Δy)\n",
    "                   math.dist(movements[k][:2], movements[k][2:]))  # distance\n",
    ")\n",
    "\n",
    "sorted_movements"
   ]
  },
  {
   "cell_type": "code",
   "execution_count": 8,
   "metadata": {},
   "outputs": [
    {
     "name": "stdout",
     "output_type": "stream",
     "text": [
      "solution:[0, 9, 10, 11, 12, 13, 14, 15, 16], left 0\n"
     ]
    }
   ],
   "source": [
    "solution = maximalis_solve_sort(20, violations, sorted_movements)\n",
    "print(f\"solution:{solution}, left {(len(gates)-len(solution))}\")"
   ]
  },
  {
   "cell_type": "markdown",
   "metadata": {},
   "source": [
    "use rustworkx to find "
   ]
  },
  {
   "cell_type": "code",
   "execution_count": 9,
   "metadata": {},
   "outputs": [],
   "source": [
    "movements={0: (4, 2, 5, 2), 1: (3, 1, 4, 1), 2: (2, 2, 3, 2), 3: (1, 1, 2, 1), 4: (2, 1, 1, 1), 5: (3, 2, 2, 2), 6: (4, 1, 3, 1), 7: (5, 2, 4, 2)}\n",
    "violations=[(0, 6), (0, 7), (1, 5), (1, 6), (1, 7), (2, 4), (2, 5), (2, 6), (3, 4), (3, 5)]\n",
    "gates =[[3, 4], [2, 5], [1, 6], [0, 7]]"
   ]
  },
  {
   "cell_type": "code",
   "execution_count": 10,
   "metadata": {},
   "outputs": [
    {
     "data": {
      "text/plain": [
       "[0, 1, 2, 3, 4, 5, 6, 7]"
      ]
     },
     "execution_count": 10,
     "metadata": {},
     "output_type": "execute_result"
    }
   ],
   "source": [
    "sorted_movements = sorted(movements.keys(), key=lambda k: math.dist(movements[k][:2], movements[k][2:]))\n",
    "sorted_movements"
   ]
  },
  {
   "cell_type": "code",
   "execution_count": 11,
   "metadata": {},
   "outputs": [
    {
     "name": "stdout",
     "output_type": "stream",
     "text": [
      "solution:[0, 1, 2, 3], left 0\n"
     ]
    }
   ],
   "source": [
    "solution = maximalis_solve_sort(20, violations, sorted_movements)\n",
    "print(f\"solution:{solution}, left {(len(gates)-len(solution))}\")"
   ]
  },
  {
   "cell_type": "code",
   "execution_count": 12,
   "metadata": {},
   "outputs": [
    {
     "name": "stdout",
     "output_type": "stream",
     "text": [
      "solution:[6, 7, 3], left 1\n"
     ]
    }
   ],
   "source": [
    "solution = maximalis_solve(sorted_movements,violations)\n",
    "print(f\"solution:{solution}, left {(len(gates)-len(solution))}\")"
   ]
  },
  {
   "cell_type": "code",
   "execution_count": 13,
   "metadata": {},
   "outputs": [
    {
     "data": {
      "text/plain": [
       "[4, 5, 6, 7, 0, 1, 2, 3]"
      ]
     },
     "execution_count": 13,
     "metadata": {},
     "output_type": "execute_result"
    }
   ],
   "source": [
    "sorted_movements = sorted(\n",
    "    movements.keys(),\n",
    "    key=lambda k: ((movements[k][2] - movements[k][0], movements[k][3] - movements[k][1]),  # Direction vector (Δx, Δy)\n",
    "                   math.dist(movements[k][:2], movements[k][2:]))  # distance\n",
    ")\n",
    "\n",
    "sorted_movements"
   ]
  },
  {
   "cell_type": "code",
   "execution_count": 14,
   "metadata": {},
   "outputs": [
    {
     "name": "stdout",
     "output_type": "stream",
     "text": [
      "solution:[4, 5, 6, 7], left 0\n"
     ]
    }
   ],
   "source": [
    "solution = maximalis_solve_sort(20, violations, sorted_movements)\n",
    "print(f\"solution:{solution}, left {(len(gates)-len(solution))}\")"
   ]
  }
 ],
 "metadata": {
  "kernelspec": {
   "display_name": ".venv",
   "language": "python",
   "name": "python3"
  },
  "language_info": {
   "codemirror_mode": {
    "name": "ipython",
    "version": 3
   },
   "file_extension": ".py",
   "mimetype": "text/x-python",
   "name": "python",
   "nbconvert_exporter": "python",
   "pygments_lexer": "ipython3",
   "version": "3.12.4"
  }
 },
 "nbformat": 4,
 "nbformat_minor": 2
}
