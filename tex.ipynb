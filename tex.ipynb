{
 "cells": [
  {
   "cell_type": "code",
   "execution_count": 10,
   "metadata": {},
   "outputs": [],
   "source": [
    "import pandas as pd\n",
    "import matplotlib.pyplot as plt\n",
    "# File path of the xlsx file\n",
    "file_path = 'data/random_qaoa/False_combined_main_results_.csv'\n"
   ]
  },
  {
   "cell_type": "code",
   "execution_count": 5,
   "metadata": {},
   "outputs": [
    {
     "name": "stdout",
     "output_type": "stream",
     "text": [
      "Empty DataFrame\n",
      "Columns: [file_name, cir_fidelity, cir_fidelity_2q_gate, cir_fidelity_2q_gate_for_idle, cir_fidelity_atom_transfer, cir_fidelity_coherence, num_two_qubit_gate, num_gate_stage, num_transfer, num_movement_stage, big_movement_stage, movement_distance]\n",
      "Index: []\n"
     ]
    }
   ],
   "source": [
    "df = pd.read_csv(file_path,)\n",
    "\n",
    "print(df.head(n=0))"
   ]
  },
  {
   "cell_type": "code",
   "execution_count": 6,
   "metadata": {},
   "outputs": [
    {
     "data": {
      "text/plain": [
       "array([8.16998021e-05, 7.62368964e-06, 1.64194238e-06, 8.28762611e-07,\n",
       "       8.87262276e-08, 1.17300022e-07, 1.52840719e-07, 5.83260111e-08,\n",
       "       2.48572247e-08, 1.87942981e-08, 2.22475954e-08, 1.63383345e-08,\n",
       "       1.90610498e-08, 1.08980102e-08, 8.36058692e-09, 8.11890874e-09,\n",
       "       7.26793536e-09, 7.37356285e-09, 6.41091288e-09, 7.15929207e-09,\n",
       "       3.32916225e-09, 5.41185077e-09, 7.69713136e-09, 4.15104957e-09,\n",
       "       4.91433477e-09, 4.39924485e-09, 5.81683454e-09, 4.46247982e-09,\n",
       "       4.33348361e-09, 4.39648238e-09, 4.52589370e-09, 3.99283504e-09,\n",
       "       4.33076244e-09, 4.45827721e-09, 3.99095444e-09, 4.41861040e-09,\n",
       "       3.24502301e-09, 3.67709087e-09, 3.38884548e-09, 4.25146139e-09,\n",
       "       3.75072530e-09, 4.01010532e-09, 3.80439666e-09, 4.33408774e-09,\n",
       "       5.35659725e-09, 5.30441307e-09, 6.03772964e-09, 8.15863872e-09,\n",
       "       1.06961680e-08])"
      ]
     },
     "execution_count": 6,
     "metadata": {},
     "output_type": "execute_result"
    }
   ],
   "source": [
    "df[\"cir_fidelity\"].values"
   ]
  },
  {
   "cell_type": "code",
   "execution_count": 11,
   "metadata": {},
   "outputs": [],
   "source": [
    "\n",
    "# Sample DataFrame (replace with your actual DataFrame)\n",
    "file_path = \"data/random_qaoa/True_combined_main_results_.csv\"\n",
    "df = pd.read_csv(file_path)\n",
    "\n",
    "# Extracting x values\n",
    "x_values = df[\"file_name\"].values\n",
    "\n",
    "#labels\n",
    "groups = ['cir_fidelity']\n",
    "\n",
    "# Iterate through each benchmark and generate TikZ code\n",
    "tikz_code = f\"\"\n",
    "for item in groups:\n",
    "    y_values = df[item].values\n",
    "    tikz_code += f\"\\\\addplot [ZZPlot]\\ncoordinates {{%\\n\"\n",
    "    for x_cor, y_cor in zip(x_values, y_values):\n",
    "        tikz_code += f\"({x_cor.replace(\"qft50 \",\"\").replace(\"full code fidelity\",\"\")}, {y_cor}) \"\n",
    "    tikz_code += \"};\\n\\\\addlegendentry{Zigzag path}\\n\\n\"\n",
    "    \n",
    "    # Print or save the TikZ code\n",
    "    # print(tikz_code)\n",
    "    # Optionally save the TikZ code to a file\n",
    "    with open(f'tikz.tex', 'w') as f:\n",
    "        f.write(tikz_code)\n"
   ]
  }
 ],
 "metadata": {
  "kernelspec": {
   "display_name": "base",
   "language": "python",
   "name": "python3"
  },
  "language_info": {
   "codemirror_mode": {
    "name": "ipython",
    "version": 3
   },
   "file_extension": ".py",
   "mimetype": "text/x-python",
   "name": "python",
   "nbconvert_exporter": "python",
   "pygments_lexer": "ipython3",
   "version": "3.12.2"
  }
 },
 "nbformat": 4,
 "nbformat_minor": 2
}
