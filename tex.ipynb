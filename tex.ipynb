{
 "cells": [
  {
   "cell_type": "code",
   "execution_count": 1,
   "metadata": {},
   "outputs": [],
   "source": [
    "import pandas as pd\n",
    "import matplotlib.pyplot as plt\n",
    "# File path of the xlsx file\n",
    "file_path = 'time.csv'\n"
   ]
  },
  {
   "cell_type": "code",
   "execution_count": 2,
   "metadata": {},
   "outputs": [
    {
     "name": "stdout",
     "output_type": "stream",
     "text": [
      "Empty DataFrame\n",
      "Columns: [num, LNN time, fold time]\n",
      "Index: []\n"
     ]
    }
   ],
   "source": [
    "df = pd.read_csv(file_path,)\n",
    "\n",
    "print(df.head(n=0))"
   ]
  },
  {
   "cell_type": "code",
   "execution_count": 3,
   "metadata": {},
   "outputs": [
    {
     "data": {
      "text/plain": [
       "array([ 5,  6,  7,  8,  9, 10, 11, 12, 13, 14, 15, 16, 17, 18, 19, 20, 21,\n",
       "       22, 23, 24, 25, 26, 27, 28, 29, 30, 31, 32, 33, 34, 35, 36, 37, 38,\n",
       "       39, 40, 41, 42, 43, 44, 45, 46, 47, 48, 49, 50])"
      ]
     },
     "execution_count": 3,
     "metadata": {},
     "output_type": "execute_result"
    }
   ],
   "source": [
    "df[\"num\"].values"
   ]
  },
  {
   "cell_type": "code",
   "execution_count": null,
   "metadata": {},
   "outputs": [],
   "source": [
    "\n",
    "# Sample DataFrame (replace with your actual DataFrame)\n",
    "file_path = \"time.csv\"\n",
    "df = pd.read_csv(file_path)\n",
    "\n",
    "# Extracting x values\n",
    "x_values = df[\"num\"].values\n",
    "\n",
    "#labels\n",
    "groups = ['LNN time','fold time']\n",
    "\n",
    "# Iterate through each benchmark and generate TikZ code\n",
    "tikz_code = f\"\"\n",
    "for item in groups:\n",
    "    y_values = df[item].values\n",
    "    tikz_code += f\"\\\\addplot [EnolaDyPlot]\\ncoordinates {{%\\n\"\n",
    "    for x_cor, y_cor in zip(x_values, y_values):\n",
    "        tikz_code += f\"({x_cor}, {y_cor}) \"\n",
    "    tikz_code += \"};\\n\\\\addlegendentry{Enola Dynamic}\\n\\n\"\n",
    "    \n",
    "    # Print or save the TikZ code\n",
    "    # print(tikz_code)\n",
    "    # Optionally save the TikZ code to a file\n",
    "    with open(f'tikz.tex', 'w') as f:\n",
    "        f.write(tikz_code)\n"
   ]
  }
 ],
 "metadata": {
  "kernelspec": {
   "display_name": "base",
   "language": "python",
   "name": "python3"
  },
  "language_info": {
   "codemirror_mode": {
    "name": "ipython",
    "version": 3
   },
   "file_extension": ".py",
   "mimetype": "text/x-python",
   "name": "python",
   "nbconvert_exporter": "python",
   "pygments_lexer": "ipython3",
   "version": "3.12.2"
  }
 },
 "nbformat": 4,
 "nbformat_minor": 2
}
