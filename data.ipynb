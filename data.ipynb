{
 "cells": [
  {
   "cell_type": "code",
   "execution_count": 1,
   "metadata": {
    "notebookRunGroups": {
     "groupValue": "1"
    }
   },
   "outputs": [],
   "source": [
    "import os\n",
    "import json\n",
    "import pandas as pd\n",
    "import subprocess\n",
    "\n",
    "# Function to clean and format file names and extract numeric part\n",
    "def clean_file_name(file_name):\n",
    "    base_name = os.path.splitext(file_name)[0]  # Remove extension\n",
    "    cleaned_name = base_name.replace('_', ' ').replace('code full', '').strip()\n",
    "    return cleaned_name\n",
    "\n",
    "def extract_numeric_part(file_name):\n",
    "    parts = file_name.split()\n",
    "    for part in parts:\n",
    "        if part.isdigit():\n",
    "            return int(part)\n",
    "    return 0"
   ]
  },
  {
   "cell_type": "code",
   "execution_count": 2,
   "metadata": {},
   "outputs": [
    {
     "data": {
      "text/plain": [
       "'./data/'"
      ]
     },
     "execution_count": 2,
     "metadata": {},
     "output_type": "execute_result"
    }
   ],
   "source": [
    "fidelity_py = \"simulator.py\"\n",
    "data_folder = \"./data\"\n",
    "os.makedirs(data_folder,exist_ok=True)\n",
    "data_folder = f\"{data_folder}/\"\n",
    "data_folder"
   ]
  },
  {
   "cell_type": "code",
   "execution_count": 3,
   "metadata": {},
   "outputs": [],
   "source": [
    "# Directory containing the JSON files\n",
    "code_folder_path = f'./code/'\n",
    "fid_folder_path = f'./fidelity/'"
   ]
  },
  {
   "cell_type": "code",
   "execution_count": 4,
   "metadata": {},
   "outputs": [],
   "source": [
    "\n",
    "for file_name in os.listdir(code_folder_path):\n",
    "    # Construct the full path to the code file\n",
    "    code_file_path = os.path.join(code_folder_path, file_name)\n",
    "    if \"full\" in file_name:\n",
    "        # Construct the command to run the simulator\n",
    "        command = [\"python\", fidelity_py, code_file_path, fid_folder_path]\n",
    "        # Execute the command\n",
    "        subprocess.run(command)\n"
   ]
  },
  {
   "cell_type": "code",
   "execution_count": 5,
   "metadata": {},
   "outputs": [
    {
     "name": "stdout",
     "output_type": "stream",
     "text": [
      "Main DataFrame:\n",
      "                   file_name  cir_fidelity  cir_fidelity_1q_gate  \\\n",
      "41  qft 5 full code fidelity      0.758987                     1   \n",
      "38  qft 6 full code fidelity      0.651988                     1   \n",
      "31  qft 7 full code fidelity      0.541012                     1   \n",
      "39  qft 8 full code fidelity      0.433268                     1   \n",
      "18  qft 9 full code fidelity      0.334538                     1   \n",
      "\n",
      "    cir_fidelity_2q_gate  cir_fidelity_2q_gate_for_idle  \\\n",
      "41              0.904610                       0.927656   \n",
      "38              0.860384                       0.886787   \n",
      "31              0.810157                       0.839273   \n",
      "39              0.755253                       0.786392   \n",
      "18              0.697047                       0.729501   \n",
      "\n",
      "    cir_fidelity_atom_transfer  cir_fidelity_coherence  num_two_qubit_gate  \\\n",
      "41                    0.924928                0.977861                  20   \n",
      "38                    0.888644                0.961612                  30   \n",
      "31                    0.846976                0.939427                  42   \n",
      "39                    0.800826                0.910934                  56   \n",
      "18                    0.751155                0.875848                  72   \n",
      "\n",
      "    num_gate_stage  num_transfer  num_movement_stage  average_movement  \n",
      "41              14            78                 144         37.223703  \n",
      "38              18           118                 212         36.575915  \n",
      "31              22           166                 292         36.132963  \n",
      "39              26           222                 384         35.704834  \n",
      "18              30           286                 488         35.314728  \n",
      "\n",
      "Movement Time Ratio DataFrame:\n",
      "                   file_name  index  movement_time_ratio\n",
      "0  qft 50 full code fidelity      0             0.767501\n",
      "1  qft 50 full code fidelity      1             0.767637\n",
      "2  qft 50 full code fidelity      2             0.767049\n",
      "3  qft 50 full code fidelity      3             0.767184\n",
      "4  qft 50 full code fidelity      4             0.767411\n",
      "\n",
      "List Movement Duration DataFrame:\n",
      "                   file_name  index  list_movement_duration\n",
      "0  qft 50 full code fidelity      0               26.967994\n",
      "1  qft 50 full code fidelity      1               63.245553\n",
      "2  qft 50 full code fidelity      2               33.028913\n",
      "3  qft 50 full code fidelity      3               26.967994\n",
      "4  qft 50 full code fidelity      4               26.967994\n"
     ]
    }
   ],
   "source": [
    "# List to store the data\n",
    "data_list = []\n",
    "\n",
    "# Loop through files in the directory\n",
    "for file_name in os.listdir(fid_folder_path):\n",
    "    file_path = os.path.join(fid_folder_path, file_name)\n",
    "    with open(file_path, 'r') as file:\n",
    "        data = json.load(file)\n",
    "        cleaned_name = clean_file_name(file_name)\n",
    "        data['file_name'] = cleaned_name  # Clean and format the file name\n",
    "        data['numeric_part'] = extract_numeric_part(cleaned_name)\n",
    "        # print(cleaned_name)\n",
    "        data_list.append(data)\n",
    "# print(len(data_list))\n",
    "\n",
    "# Create a DataFrame for the main metrics\n",
    "df_main = pd.DataFrame([{\n",
    "    'file_name': d['file_name'],\n",
    "    \"cir_fidelity\" : d[\"cir_fidelity\"],\n",
    "    \"cir_fidelity_1q_gate\": d[\"cir_fidelity_1q_gate\"],\n",
    "    \"cir_fidelity_2q_gate\": d[\"cir_fidelity_2q_gate\"],\n",
    "    \"cir_fidelity_2q_gate_for_idle\": d[\"cir_fidelity_2q_gate_for_idle\"],\n",
    "    \"cir_fidelity_atom_transfer\": d[\"cir_fidelity_atom_transfer\"],\n",
    "    \"cir_fidelity_coherence\": d[\"cir_fidelity_coherence\"],\n",
    "    \"num_two_qubit_gate\": d[\"num_two_qubit_gate\"],\n",
    "    \"num_gate_stage\": d[\"num_gate_stage\"],\n",
    "    \"num_transfer\": d[\"num_transfer\"],\n",
    "    \"num_movement_stage\": d[\"num_movement_stage\"],\n",
    "    'num_movement_stage': d['num_movement_stage'],\n",
    "    'average_movement': d['average_movement'],\n",
    "    'numeric_part': d['numeric_part'],  # Include numeric part for sorting\n",
    "} for d in data_list])\n",
    "\n",
    "# Sort the DataFrame based on the numeric part\n",
    "df_main = df_main.sort_values(by='numeric_part').drop(columns='numeric_part')\n",
    "\n",
    "# Create separate DataFrames for the lists\n",
    "movement_time_ratio_list = []\n",
    "list_movement_duration_list = []\n",
    "\n",
    "for d in data_list:\n",
    "    for idx, value in enumerate(d['movement_time_ratio']):\n",
    "        movement_time_ratio_list.append({\n",
    "            'file_name': d['file_name'],\n",
    "            'index': idx,\n",
    "            'movement_time_ratio': value\n",
    "        })\n",
    "    for idx, value in enumerate(d['list_movement_duration']):\n",
    "        list_movement_duration_list.append({\n",
    "            'file_name': d['file_name'],\n",
    "            'index': idx,\n",
    "            'list_movement_duration': value\n",
    "        })\n",
    "\n",
    "df_movement_time_ratio = pd.DataFrame(movement_time_ratio_list)\n",
    "df_list_movement_duration = pd.DataFrame(list_movement_duration_list)\n",
    "\n",
    "# Display the DataFrames for analysis\n",
    "print(\"Main DataFrame:\")\n",
    "print(df_main.head())\n",
    "\n",
    "print(\"\\nMovement Time Ratio DataFrame:\")\n",
    "print(df_movement_time_ratio.head())\n",
    "\n",
    "print(\"\\nList Movement Duration DataFrame:\")\n",
    "print(df_list_movement_duration.head())\n",
    "\n",
    "# Save the DataFrames to CSV files if needed\n",
    "df_main.to_csv(data_folder+f'combined_main_results.csv', index=False)\n",
    "# df_movement_time_ratio.to_csv(data_folder+f'{map_type}_combined_movement_time_ratio.csv', index=False)\n",
    "# df_list_movement_duration.to_csv(data_folder+f'{map_type}_combined_list_movement_duration.csv', index=False)"
   ]
  }
 ],
 "metadata": {
  "kernelspec": {
   "display_name": "Python 3 (ipykernel)",
   "language": "python",
   "name": "python3"
  },
  "language_info": {
   "codemirror_mode": {
    "name": "ipython",
    "version": 3
   },
   "file_extension": ".py",
   "mimetype": "text/x-python",
   "name": "python",
   "nbconvert_exporter": "python",
   "pygments_lexer": "ipython3",
   "version": "3.12.2"
  }
 },
 "nbformat": 4,
 "nbformat_minor": 2
}
