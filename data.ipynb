{
 "cells": [
  {
   "cell_type": "code",
   "execution_count": 7,
   "metadata": {
    "notebookRunGroups": {
     "groupValue": "1"
    }
   },
   "outputs": [],
   "source": [
    "import os\n",
    "import json\n",
    "import pandas as pd\n",
    "import subprocess\n",
    "\n",
    "# Function to clean and format file names and extract numeric part\n",
    "def clean_file_name(file_name):\n",
    "    base_name = os.path.splitext(file_name)[0]  # Remove extension\n",
    "    cleaned_name = base_name.replace('_', ' ').replace('code full', '').strip()\n",
    "    return cleaned_name\n",
    "\n",
    "def extract_numeric_part(file_name):\n",
    "    parts = file_name.split()\n",
    "    for part in parts:\n",
    "        if part.isdigit():\n",
    "            return int(part)\n",
    "    return 0"
   ]
  },
  {
   "cell_type": "code",
   "execution_count": 8,
   "metadata": {},
   "outputs": [
    {
     "data": {
      "text/plain": [
       "'./data/qaoa/'"
      ]
     },
     "execution_count": 8,
     "metadata": {},
     "output_type": "execute_result"
    }
   ],
   "source": [
    "fidelity_py = \"simulator.py\"\n",
    "data_folder = \"./data/qaoa\"\n",
    "os.makedirs(data_folder,exist_ok=True)\n",
    "data_folder = f\"{data_folder}/\"\n",
    "data_folder"
   ]
  },
  {
   "cell_type": "code",
   "execution_count": 3,
   "metadata": {},
   "outputs": [],
   "source": [
    "# Directory containing the JSON files\n",
    "folder_map = False\n",
    "code_folder_path = f'qaoa/code/LNN'\n",
    "fid_folder_path = f'qaoa/fidelity/'"
   ]
  },
  {
   "cell_type": "code",
   "execution_count": 5,
   "metadata": {},
   "outputs": [],
   "source": [
    "\n",
    "for file_name in os.listdir(code_folder_path):\n",
    "    # Construct the full path to the code file\n",
    "    code_file_path = os.path.join(code_folder_path, file_name)\n",
    "    if \"json\" in file_name:\n",
    "        # Construct the command to run the simulator\n",
    "        command = [\"python\", fidelity_py, code_file_path, fid_folder_path]\n",
    "        # Execute the command\n",
    "        subprocess.run(command)"
   ]
  },
  {
   "cell_type": "code",
   "execution_count": 6,
   "metadata": {},
   "outputs": [
    {
     "name": "stdout",
     "output_type": "stream",
     "text": [
      "Main DataFrame:\n",
      "       file_name  cir_fidelity  cir_fidelity_2q_gate  \\\n",
      "0  20 0 fidelity      0.003583              0.148857   \n",
      "1  20 1 fidelity      0.004000              0.150357   \n",
      "2  20 2 fidelity      0.003525              0.151872   \n",
      "3  20 3 fidelity      0.003496              0.153402   \n",
      "4  20 4 fidelity      0.003467              0.154948   \n",
      "\n",
      "   cir_fidelity_2q_gate_for_idle  cir_fidelity_atom_transfer  \\\n",
      "0                       0.164927                    0.218983   \n",
      "1                       0.180479                    0.219861   \n",
      "2                       0.161657                    0.218983   \n",
      "3                       0.160046                    0.218983   \n",
      "4                       0.158452                    0.218983   \n",
      "\n",
      "   cir_fidelity_coherence  num_two_qubit_gate  num_gate_stage  num_transfer  \\\n",
      "0                0.666466                 380              74          1518   \n",
      "1                0.670398                 378              72          1514   \n",
      "2                0.655569                 376              74          1518   \n",
      "3                0.650184                 374              74          1518   \n",
      "4                0.644841                 372              74          1518   \n",
      "\n",
      "   num_movement_stage  big_movement_stage  movement_distance  \n",
      "0                 588                 147         200.894737  \n",
      "1                 580                 145         198.052632  \n",
      "2                 612                 153         207.736842  \n",
      "3                 624                 156         211.157895  \n",
      "4                 636                 159         214.578947  \n",
      "\n",
      "Movement Time Ratio DataFrame:\n",
      "       file_name  index  movement_time_ratio\n",
      "0  20 0 fidelity      0             0.834034\n",
      "1  20 0 fidelity      1             0.832345\n",
      "2  20 0 fidelity      2             0.830662\n",
      "3  20 0 fidelity      3             0.828985\n",
      "4  20 0 fidelity      4             0.827316\n",
      "\n",
      "List Movement Duration DataFrame:\n",
      "       file_name  index  list_movement_duration\n",
      "0  20 0 fidelity      0               26.967994\n",
      "1  20 0 fidelity      1               76.277007\n",
      "2  20 0 fidelity      2               33.028913\n",
      "3  20 0 fidelity      3               26.967994\n",
      "4  20 0 fidelity      4               26.967994\n"
     ]
    }
   ],
   "source": [
    "# List to store the data\n",
    "data_list = []\n",
    "\n",
    "# Loop through files in the directory\n",
    "for file_name in os.listdir(fid_folder_path):\n",
    "    file_path = os.path.join(fid_folder_path, file_name)\n",
    "    with open(file_path, 'r') as file:\n",
    "        data = json.load(file)\n",
    "        cleaned_name = clean_file_name(file_name)\n",
    "        data['file_name'] = cleaned_name  # Clean and format the file name\n",
    "        data['numeric_part'] = extract_numeric_part(cleaned_name)\n",
    "        # print(cleaned_name)\n",
    "        data_list.append(data)\n",
    "# print(len(data_list))\n",
    "\n",
    "# Create a DataFrame for the main metrics\n",
    "df_main = pd.DataFrame([{\n",
    "    'file_name': d['file_name'],\n",
    "    \"cir_fidelity\" : d[\"cir_fidelity\"],\n",
    "    \"cir_fidelity_2q_gate\": d[\"cir_fidelity_2q_gate\"],\n",
    "    \"cir_fidelity_2q_gate_for_idle\": d[\"cir_fidelity_2q_gate_for_idle\"],\n",
    "    \"cir_fidelity_atom_transfer\": d[\"cir_fidelity_atom_transfer\"],\n",
    "    \"cir_fidelity_coherence\": d[\"cir_fidelity_coherence\"],\n",
    "    \"num_two_qubit_gate\": d[\"num_two_qubit_gate\"],\n",
    "    \"num_gate_stage\": d[\"num_gate_stage\"],\n",
    "    \"num_transfer\": d[\"num_transfer\"],\n",
    "    \"num_movement_stage\": d[\"num_movement_stage\"],\n",
    "    'big_movement_stage': d['num_big_move'],\n",
    "    'movement_distance': d['total_move_dis'],\n",
    "    'numeric_part': d['numeric_part'],  # Include numeric part for sorting\n",
    "} for d in data_list])\n",
    "\n",
    "# Sort the DataFrame based on the numeric part\n",
    "df_main = df_main.sort_values(by='numeric_part').drop(columns='numeric_part')\n",
    "\n",
    "# Create separate DataFrames for the lists\n",
    "movement_time_ratio_list = []\n",
    "list_movement_duration_list = []\n",
    "\n",
    "for d in data_list:\n",
    "    for idx, value in enumerate(d['movement_time_ratio']):\n",
    "        movement_time_ratio_list.append({\n",
    "            'file_name': d['file_name'],\n",
    "            'index': idx,\n",
    "            'movement_time_ratio': value\n",
    "        })\n",
    "    for idx, value in enumerate(d['list_movement_duration']):\n",
    "        list_movement_duration_list.append({\n",
    "            'file_name': d['file_name'],\n",
    "            'index': idx,\n",
    "            'list_movement_duration': value\n",
    "        })\n",
    "\n",
    "df_movement_time_ratio = pd.DataFrame(movement_time_ratio_list)\n",
    "df_list_movement_duration = pd.DataFrame(list_movement_duration_list)\n",
    "\n",
    "# Display the DataFrames for analysis\n",
    "print(\"Main DataFrame:\")\n",
    "print(df_main.head())\n",
    "\n",
    "print(\"\\nMovement Time Ratio DataFrame:\")\n",
    "print(df_movement_time_ratio.head())\n",
    "\n",
    "print(\"\\nList Movement Duration DataFrame:\")\n",
    "print(df_list_movement_duration.head())\n",
    "\n",
    "# Save the DataFrames to CSV files if needed\n",
    "df_main.to_csv(data_folder+f'{folder_map}_combined_main_results_.csv', index=False)\n",
    "# df_movement_time_ratio.to_csv(data_folder+f'{map_type}_combined_movement_time_ratio.csv', index=False)\n",
    "# df_list_movement_duration.to_csv(data_folder+f'{map_type}_combined_list_movement_duration.csv', index=False)"
   ]
  }
 ],
 "metadata": {
  "kernelspec": {
   "display_name": "base",
   "language": "python",
   "name": "python3"
  },
  "language_info": {
   "codemirror_mode": {
    "name": "ipython",
    "version": 3
   },
   "file_extension": ".py",
   "mimetype": "text/x-python",
   "name": "python",
   "nbconvert_exporter": "python",
   "pygments_lexer": "ipython3",
   "version": "3.12.2"
  }
 },
 "nbformat": 4,
 "nbformat_minor": 2
}
